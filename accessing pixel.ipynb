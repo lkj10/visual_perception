{
 "cells": [
  {
   "cell_type": "code",
   "execution_count": 1,
   "id": "6341487e",
   "metadata": {},
   "outputs": [],
   "source": [
    "import cv2\n",
    "import numpy as np"
   ]
  },
  {
   "cell_type": "code",
   "execution_count": 2,
   "id": "4b986fd0",
   "metadata": {},
   "outputs": [
    {
     "name": "stdout",
     "output_type": "stream",
     "text": [
      "img.ndim =  3\n",
      "img.shape =  (512, 512, 3)\n",
      "img.dype =  uint8\n",
      "img.dtype= int32\n",
      "img.dtype= uint8\n"
     ]
    }
   ],
   "source": [
    "img = cv2.imread('./data/lena.jpg') # cv2.IMREAD_COLOR\n",
    "\n",
    "print('img.ndim = ', img.ndim)\n",
    "print('img.shape = ', img.shape)\n",
    "print('img.dype = ', img.dtype)\n",
    "\n",
    "img = img.astype(np.int32)\n",
    "print('img.dtype=', img.dtype)\n",
    "\n",
    "img = np.uint8(img)\n",
    "print('img.dtype=', img.dtype)"
   ]
  },
  {
   "cell_type": "code",
   "execution_count": 5,
   "id": "642c18a6",
   "metadata": {},
   "outputs": [
    {
     "name": "stdout",
     "output_type": "stream",
     "text": [
      "img.shape =  (512, 512)\n",
      "img.shape =  (262144,)\n",
      "img.shape =  (512, 512)\n"
     ]
    }
   ],
   "source": [
    "img = cv2.imread('./data/lena.jpg', cv2.IMREAD_GRAYSCALE)\n",
    "print('img.shape = ', img.shape)\n",
    "\n",
    "img = img.flatten()\n",
    "## img = img.reshape(img.shape[0]*img.shape[1]) 위의 결과와 똑같음\n",
    "print('img.shape = ', img.shape)\n",
    "\n",
    "img = img.reshape(512, 512)\n",
    "print('img.shape = ', img.shape)\n",
    "\n",
    "cv2.imshow('img', img)\n",
    "cv2.waitKey()\n",
    "cv2.destroyAllWindows()"
   ]
  },
  {
   "cell_type": "code",
   "execution_count": 8,
   "id": "f3f48490",
   "metadata": {},
   "outputs": [],
   "source": [
    "#(200, 100)에 밝기를 50으로 설정\n",
    "img[100, 200] = 50 # 화소값(밝기, 그레이스케일) 변경\n",
    "print(img[100:110, 200:210]) # ROI 접근"
   ]
  },
  {
   "cell_type": "code",
   "execution_count": 11,
   "id": "14fa1530",
   "metadata": {},
   "outputs": [
    {
     "name": "stdout",
     "output_type": "stream",
     "text": [
      "[[255   0   0]\n",
      " [116 115 207]\n",
      " [120 116 211]\n",
      " [107 103 198]\n",
      " [119 121 209]\n",
      " [116 118 206]\n",
      " [115 114 206]\n",
      " [112 111 203]\n",
      " [104 105 195]\n",
      " [110 112 200]]\n"
     ]
    }
   ],
   "source": [
    "img = cv2.imread('./data/lena.jpg')\n",
    "\n",
    "img[100, 200] = [255, 0, 0]\n",
    "print(img[100, 200:210])\n",
    "\n",
    "img[100:400, 200:300, 0] = 255\n",
    "img[100:400, 300:400, 1] = 255\n",
    "img[100:400, 400:500, 2] = 255\n",
    "\n",
    "cv2.imshow('img', img)\n",
    "cv2.waitKey()\n",
    "cv2.destroyAllWindows()"
   ]
  },
  {
   "cell_type": "code",
   "execution_count": null,
   "id": "10241c72",
   "metadata": {},
   "outputs": [],
   "source": [
    "img[100:400, 200:300]"
   ]
  }
 ],
 "metadata": {
  "kernelspec": {
   "display_name": "Python 3",
   "language": "python",
   "name": "python3"
  },
  "language_info": {
   "codemirror_mode": {
    "name": "ipython",
    "version": 3
   },
   "file_extension": ".py",
   "mimetype": "text/x-python",
   "name": "python",
   "nbconvert_exporter": "python",
   "pygments_lexer": "ipython3",
   "version": "3.8.8"
  }
 },
 "nbformat": 4,
 "nbformat_minor": 5
}
