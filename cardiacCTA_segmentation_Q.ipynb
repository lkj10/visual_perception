{
 "cells": [
  {
   "cell_type": "code",
   "execution_count": 2,
   "metadata": {},
   "outputs": [],
   "source": [
    "import cv2\n",
    "import numpy as np\n",
    "import matplotlib.pyplot as plt\n",
    "import sklearn.metrics as metrics"
   ]
  },
  {
   "cell_type": "code",
   "execution_count": 3,
   "metadata": {},
   "outputs": [],
   "source": [
    "def calcSim(target, predict):\n",
    "    \n",
    "    if len(target) != len(predict):\n",
    "        return -1\n",
    "    \n",
    "    num_target = 0\n",
    "    num_predict = 0\n",
    "    num_union = 0    \n",
    "    for i in range(len(target)):\n",
    "        if (target[i] != 0):\n",
    "            num_target = num_target + 1            \n",
    "        if (predict[i] != 0):\n",
    "            num_predict = num_predict + 1\n",
    "        if (target[i] != 0) and (target[i] == predict[i]):\n",
    "            num_union = num_union + 1\n",
    "            \n",
    "    sim = 2*(num_union/(num_target+num_predict))\n",
    "    \n",
    "    return sim"
   ]
  },
  {
   "cell_type": "code",
   "execution_count": 5,
   "metadata": {},
   "outputs": [],
   "source": [
    "src = cv2.imread('./data/cardiac_cta.bmp', cv2.IMREAD_GRAYSCALE)\n",
    "target = cv2.imread('./data/cardiac_label.bmp', cv2.IMREAD_GRAYSCALE)"
   ]
  },
  {
   "cell_type": "code",
   "execution_count": 84,
   "metadata": {},
   "outputs": [
    {
     "name": "stdout",
     "output_type": "stream",
     "text": [
      "threshold =  180.0\n"
     ]
    }
   ],
   "source": [
    "## TODO : Segmentation\n",
    "\n",
    "ret, dst = cv2.threshold(src,180, 255, cv2.THRESH_BINARY)\n",
    "\n",
    "ret, dst2 = cv2.threshold(dst,175, 255, cv2.THRESH_BINARY)\n",
    "\n",
    "ret, dst3 = cv2.threshold(src,180, 255, cv2.THRESH_TOZERO)\n",
    "#ret2, dst2 = cv2.threshold(src, 3, 255, cv2.THRESH_TOZERO+cv2.THRESH_OTSU)\n",
    "print('threshold = ', ret)\n",
    "\n",
    "#cv2.imshow('dst', dst)\n",
    "cv2.imshow('dst', dst)\n",
    "cv2.imshow('dst2', dst2)\n",
    "cv2.imshow('dst3', dst3)\n",
    "cv2.waitKey()\n",
    "cv2.destroyAllWindows()\n",
    "\n",
    "##"
   ]
  },
  {
   "cell_type": "code",
   "execution_count": null,
   "metadata": {},
   "outputs": [],
   "source": [
    "plt.figure(figsize=(15, 15))\n",
    "plt.subplot(1, 3, 1)\n",
    "plt.axis('off')\n",
    "plt.imshow(src, cmap='gray')\n",
    "\n",
    "plt.subplot(1, 3, 2)\n",
    "plt.axis('off')\n",
    "plt.imshow(predict, cmap='gray')\n",
    "\n",
    "plt.subplot(1, 3, 3)\n",
    "plt.axis('off')\n",
    "plt.imshow(target, cmap='gray')"
   ]
  },
  {
   "cell_type": "code",
   "execution_count": null,
   "metadata": {},
   "outputs": [],
   "source": [
    "target = target.flatten()\n",
    "predict = predict.flatten()\n",
    "print(target.shape)\n",
    "print(predict.shape)\n",
    "\n",
    "target[target[:] == 255] = 1\n",
    "predict[predict[:] == 255] = 1\n",
    "\n",
    "sim = calcSim(target, predict)\n",
    "print(\"similarity: \", sim)"
   ]
  },
  {
   "cell_type": "code",
   "execution_count": null,
   "metadata": {},
   "outputs": [],
   "source": []
  }
 ],
 "metadata": {
  "kernelspec": {
   "display_name": "Python 3",
   "language": "python",
   "name": "python3"
  },
  "language_info": {
   "codemirror_mode": {
    "name": "ipython",
    "version": 3
   },
   "file_extension": ".py",
   "mimetype": "text/x-python",
   "name": "python",
   "nbconvert_exporter": "python",
   "pygments_lexer": "ipython3",
   "version": "3.8.8"
  }
 },
 "nbformat": 4,
 "nbformat_minor": 4
}
