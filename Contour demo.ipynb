{
 "cells": [
  {
   "cell_type": "code",
   "execution_count": 1,
   "id": "7c5813a4",
   "metadata": {},
   "outputs": [],
   "source": [
    "import cv2\n",
    "import numpy as np\n",
    "import imutils"
   ]
  },
  {
   "cell_type": "code",
   "execution_count": 3,
   "id": "0ea51201",
   "metadata": {},
   "outputs": [],
   "source": [
    "image = cv2.imread(\"./data/more_shapes.png\", cv2.IMREAD_COLOR)\n",
    "gray = cv2.cvtColor(image, cv2.COLOR_BGR2GRAY)\n",
    "ret, mask = cv2.threshold(gray, 50, 255, cv2.THRESH_BINARY)\n",
    "cv2.imshow(\"image\", image)\n",
    "cv2.imshow(\"mask\", mask)\n",
    "cv2.waitKey()\n",
    "cv2.destroyAllWindows()"
   ]
  },
  {
   "cell_type": "markdown",
   "id": "de0ef698",
   "metadata": {},
   "source": [
    "# Bounding Box"
   ]
  },
  {
   "cell_type": "code",
   "execution_count": 5,
   "id": "8564d80e",
   "metadata": {},
   "outputs": [],
   "source": [
    "cnts, _ = cv2.findContours(mask, cv2.RETR_EXTERNAL, cv2.CHAIN_APPROX_SIMPLE)\n",
    "\n",
    "clone = image.copy()\n",
    "\n",
    "for c in cnts:\n",
    "    (x, y, w, h) = cv2.boundingRect(c)\n",
    "    cv2.rectangle(clone, (x, y), (x + w, y + h), (0, 255, 0), 2) \n",
    "    \n",
    "cv2.imshow(\"Bounding Boxes\", clone)\n",
    "cv2.waitKey()\n",
    "cv2.destroyAllWindows()"
   ]
  },
  {
   "cell_type": "markdown",
   "id": "2d762771",
   "metadata": {},
   "source": [
    "# Oriented Bounding Box"
   ]
  },
  {
   "cell_type": "code",
   "execution_count": 6,
   "id": "a1e55131",
   "metadata": {},
   "outputs": [],
   "source": [
    "clone = image.copy()\n",
    "\n",
    "for c in cnts:\n",
    "    rect = cv2.minAreaRect(c)\n",
    "    box = cv2.boxPoints(rect)\n",
    "    box = np.int0(box)        \n",
    "    cv2.drawContours(clone, [box], -1, (0, 255, 0), 2)\n",
    "    \n",
    "cv2.imshow(\"Oriented Bounding Boxes\", clone)\n",
    "cv2.waitKey()\n",
    "cv2.destroyAllWindows()"
   ]
  },
  {
   "cell_type": "markdown",
   "id": "bdbbc0d9",
   "metadata": {},
   "source": [
    "# Bounding Sphere"
   ]
  },
  {
   "cell_type": "code",
   "execution_count": 7,
   "id": "3f962efa",
   "metadata": {},
   "outputs": [],
   "source": [
    "clone = image.copy()\n",
    "\n",
    "for c in cnts:\n",
    "    (x,y), r = cv2.minEnclosingCircle(c)\n",
    "    center = (int(x), int(y))\n",
    "    r = int(r)\n",
    "    cv2.circle(clone, center, r, (255, 0, 0), 3)\n",
    "\n",
    "\n",
    "cv2.imshow(\"Bounding Sphere\", clone)\n",
    "cv2.waitKey()\n",
    "cv2.destroyAllWindows()"
   ]
  },
  {
   "cell_type": "markdown",
   "id": "48bd962b",
   "metadata": {},
   "source": [
    "# convex Hull"
   ]
  },
  {
   "cell_type": "code",
   "execution_count": 10,
   "id": "002f74ed",
   "metadata": {},
   "outputs": [],
   "source": [
    "clone = image.copy()\n",
    "\n",
    "for c in cnts:\n",
    "    hull = cv2.convexHull(c)\n",
    "    cv2.drawContours(clone, [hull], -1, (0, 0, 255), 2)\n",
    "\n",
    "cv2.imshow(\"Convexhull\", clone)\n",
    "cv2.waitKey()\n",
    "cv2.destroyAllWindows()"
   ]
  }
 ],
 "metadata": {
  "kernelspec": {
   "display_name": "Python 3",
   "language": "python",
   "name": "python3"
  },
  "language_info": {
   "codemirror_mode": {
    "name": "ipython",
    "version": 3
   },
   "file_extension": ".py",
   "mimetype": "text/x-python",
   "name": "python",
   "nbconvert_exporter": "python",
   "pygments_lexer": "ipython3",
   "version": "3.8.8"
  }
 },
 "nbformat": 4,
 "nbformat_minor": 5
}
