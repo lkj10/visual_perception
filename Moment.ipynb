{
 "cells": [
  {
   "cell_type": "markdown",
   "id": "3665a5fa",
   "metadata": {},
   "source": [
    "# Moment, Hu Invarient Moment"
   ]
  },
  {
   "cell_type": "code",
   "execution_count": 1,
   "id": "74cbd014",
   "metadata": {},
   "outputs": [],
   "source": [
    "import cv2\n",
    "import numpy as np\n",
    "import imutils"
   ]
  },
  {
   "cell_type": "code",
   "execution_count": 3,
   "id": "468460cd",
   "metadata": {},
   "outputs": [],
   "source": [
    "src = cv2.imread('./data/momentTest.jpg')\n",
    "gray = cv2.cvtColor(src, cv2.COLOR_BGR2GRAY)\n",
    "ret, bImage = cv2.threshold(gray, 128, 255, cv2.THRESH_BINARY)\n",
    "\n",
    "mode = cv2.RETR_EXTERNAL\n",
    "method = cv2.CHAIN_APPROX_SIMPLE\n",
    "contours, _ = cv2.findContours(bImage, mode, method)\n",
    "\n",
    "dst = src.copy()\n",
    "cnt = contours[0]\n",
    "cv2.drawContours(dst, [cnt], 0, (255,0,0), 3)\n",
    "cv2.imshow('cnt',  dst)\n",
    "cv2.waitKey()\n",
    "cv2.destroyAllWindows()"
   ]
  },
  {
   "cell_type": "code",
   "execution_count": 4,
   "id": "a3aae704",
   "metadata": {},
   "outputs": [
    {
     "name": "stdout",
     "output_type": "stream",
     "text": [
      "hu.shape= (7, 1)\n",
      "hu= [[ 1.72272960e-01]\n",
      " [ 2.17960438e-03]\n",
      " [ 9.24428655e-05]\n",
      " [ 1.90785217e-06]\n",
      " [ 1.11977849e-12]\n",
      " [-6.96325160e-09]\n",
      " [-2.53121609e-11]]\n"
     ]
    }
   ],
   "source": [
    "M = cv2.moments(cnt)\n",
    "hu = cv2.HuMoments(M)\n",
    "print('hu.shape=', hu.shape)\n",
    "print('hu=', hu)"
   ]
  },
  {
   "cell_type": "code",
   "execution_count": 5,
   "id": "c3893893",
   "metadata": {},
   "outputs": [],
   "source": [
    "angle = 45.0\n",
    "scale = 0.2\n",
    "cx = M['m10']/M['m00']\n",
    "cy = M['m01']/M['m00']\n",
    "center = (cx, cy)\n",
    "t = (20, 30)\n",
    "\n",
    "A = cv2.getRotationMatrix2D( center, angle, scale )\n",
    "A[:, 2] += t   # translation\n",
    "cnt2 = cv2.transform(cnt, A)\n",
    "cv2.drawContours(dst, [cnt2], 0, (0,255,0), 3)\n",
    "cv2.imshow('dst',  dst)\n",
    "cv2.waitKey()\n",
    "cv2.destroyAllWindows()"
   ]
  },
  {
   "cell_type": "code",
   "execution_count": 8,
   "id": "7bb9a6e3",
   "metadata": {},
   "outputs": [
    {
     "name": "stdout",
     "output_type": "stream",
     "text": [
      "hu2.shape= (7, 1)\n",
      "diffSum= 0.0003215707378081359\n"
     ]
    }
   ],
   "source": [
    "M2 = cv2.moments(cnt2)\n",
    "hu2 = cv2.HuMoments(M2)\n",
    "print('hu2.shape=', hu2.shape)\n",
    "\n",
    "# 두 개 차이가 얼마나 나는지\n",
    "diffSum = np.sum(cv2.absdiff(hu, hu2))\n",
    "print('diffSum=', diffSum) # 0에 가깝게 나옴\n",
    "#template matching 대체로 사용할 수 있음 (컵 영상 확인)\n",
    "# -> 입력 영상에서 object를 찾아야 함.\n",
    "# object를 이미 구한 상태에서 비교해야 효율적."
   ]
  }
 ],
 "metadata": {
  "kernelspec": {
   "display_name": "Python 3",
   "language": "python",
   "name": "python3"
  },
  "language_info": {
   "codemirror_mode": {
    "name": "ipython",
    "version": 3
   },
   "file_extension": ".py",
   "mimetype": "text/x-python",
   "name": "python",
   "nbconvert_exporter": "python",
   "pygments_lexer": "ipython3",
   "version": "3.8.8"
  }
 },
 "nbformat": 4,
 "nbformat_minor": 5
}
