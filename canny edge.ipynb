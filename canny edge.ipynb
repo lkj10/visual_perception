{
 "cells": [
  {
   "cell_type": "code",
   "execution_count": 1,
   "id": "c2055b9a",
   "metadata": {},
   "outputs": [],
   "source": [
    "import cv2\n",
    "import numpy as np\n",
    "import imutils"
   ]
  },
  {
   "cell_type": "code",
   "execution_count": 7,
   "id": "b1278cb7",
   "metadata": {},
   "outputs": [],
   "source": [
    "src = cv2.imread('./data/lena.jpg', cv2.IMREAD_GRAYSCALE)\n",
    "\n",
    "edges1 = cv2.Canny(src, 50, 100) \n",
    "edges2 = cv2.Canny(src, 50, 200)\n",
    "edges3 = cv2.Canny(src, 150, 280)\n",
    "\n",
    "cv2.imshow('src',  src)\n",
    "cv2.imshow('edges1',  edges1)\n",
    "cv2.imshow('edges2',  edges2)\n",
    "cv2.imshow('edges3',  edges3)\n",
    "cv2.waitKey()\n",
    "cv2.destroyAllWindows()\n",
    "\n"
   ]
  }
 ],
 "metadata": {
  "kernelspec": {
   "display_name": "Python 3",
   "language": "python",
   "name": "python3"
  },
  "language_info": {
   "codemirror_mode": {
    "name": "ipython",
    "version": 3
   },
   "file_extension": ".py",
   "mimetype": "text/x-python",
   "name": "python",
   "nbconvert_exporter": "python",
   "pygments_lexer": "ipython3",
   "version": "3.8.8"
  }
 },
 "nbformat": 4,
 "nbformat_minor": 5
}
