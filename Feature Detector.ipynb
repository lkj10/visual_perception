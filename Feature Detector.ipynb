{
 "cells": [
  {
   "cell_type": "markdown",
   "id": "cad181fe",
   "metadata": {},
   "source": [
    "# FastFeatureDetector"
   ]
  },
  {
   "cell_type": "code",
   "execution_count": 29,
   "id": "a6d7e79e",
   "metadata": {},
   "outputs": [],
   "source": [
    "import cv2\n",
    "import numpy as np"
   ]
  },
  {
   "cell_type": "code",
   "execution_count": 3,
   "id": "ea0c509e",
   "metadata": {},
   "outputs": [
    {
     "name": "stdout",
     "output_type": "stream",
     "text": [
      "len(kp)= 167\n"
     ]
    }
   ],
   "source": [
    "src = cv2.imread('./data/chessBoard.jpg')\n",
    "gray= cv2.cvtColor(src,cv2.COLOR_BGR2GRAY)\n",
    "\n",
    "fastF = cv2.FastFeatureDetector_create()\n",
    "kp = fastF.detect(gray)\n",
    "dst = cv2.drawKeypoints(gray, kp, None, color= (0,0,255))\n",
    "print('len(kp)=', len(kp))\n",
    "\n",
    "cv2.imshow('dst',  dst)\n",
    "cv2.waitKey()\n",
    "cv2.destroyAllWindows()"
   ]
  },
  {
   "cell_type": "markdown",
   "id": "e03c16ce",
   "metadata": {},
   "source": [
    "# MSER"
   ]
  },
  {
   "cell_type": "code",
   "execution_count": 11,
   "id": "7d6eb4ac",
   "metadata": {},
   "outputs": [
    {
     "name": "stdout",
     "output_type": "stream",
     "text": [
      "len(kp)= 202\n"
     ]
    }
   ],
   "source": [
    "src = cv2.imread('./data/chessBoard.jpg')\n",
    "gray= cv2.cvtColor(src,cv2.COLOR_BGR2GRAY)\n",
    "\n",
    "mserF = cv2.MSER_create(10) # 블락의 영역을 찾음.\n",
    "kp = mserF.detect(gray)#겹쳐있는 원이 많음.\n",
    "dst = cv2.drawKeypoints(gray, kp, None, color= (0,0,255))\n",
    "print('len(kp)=', len(kp))\n",
    "\n",
    "cv2.imshow('dst',  dst)\n",
    "cv2.waitKey()\n",
    "cv2.destroyAllWindows()"
   ]
  },
  {
   "cell_type": "markdown",
   "id": "6ade1b94",
   "metadata": {},
   "source": [
    "# SimpleBlobDetector"
   ]
  },
  {
   "cell_type": "code",
   "execution_count": 9,
   "id": "259c9425",
   "metadata": {},
   "outputs": [
    {
     "name": "stdout",
     "output_type": "stream",
     "text": [
      "len(kp)= 14\n"
     ]
    }
   ],
   "source": [
    "src = cv2.imread('./data/chessBoard.jpg')\n",
    "gray= cv2.cvtColor(src,cv2.COLOR_BGR2GRAY)\n",
    "\n",
    "blobF = cv2.SimpleBlobDetector_create()#어두운 부분만 찾음\n",
    "kp = blobF.detect(gray)\n",
    "dst = cv2.drawKeypoints(gray, kp, None, color= (0,0,255))\n",
    "print('len(kp)=', len(kp))\n",
    "\n",
    "cv2.imshow('dst',  dst)\n",
    "cv2.waitKey()\n",
    "cv2.destroyAllWindows()"
   ]
  },
  {
   "cell_type": "markdown",
   "id": "819ab89e",
   "metadata": {},
   "source": [
    "# GFTTDetector"
   ]
  },
  {
   "cell_type": "code",
   "execution_count": 10,
   "id": "13f00b14",
   "metadata": {},
   "outputs": [
    {
     "name": "stdout",
     "output_type": "stream",
     "text": [
      "len(kp)= 8\n"
     ]
    }
   ],
   "source": [
    "src = cv2.imread('./data/CornerTest.jpg')\n",
    "gray= cv2.cvtColor(src,cv2.COLOR_BGR2GRAY)\n",
    "\n",
    "goodF = cv2.GFTTDetector_create()\n",
    "kp = goodF.detect(gray)\n",
    "dst = cv2.drawKeypoints(gray, kp, None, color= (0,0,255))\n",
    "print('len(kp)=', len(kp))\n",
    "\n",
    "cv2.imshow('dst',  dst)\n",
    "cv2.waitKey()\n",
    "cv2.destroyAllWindows()"
   ]
  },
  {
   "cell_type": "markdown",
   "id": "3e87adb8",
   "metadata": {},
   "source": [
    "# ORB"
   ]
  },
  {
   "cell_type": "code",
   "execution_count": 13,
   "id": "62cf2524",
   "metadata": {},
   "outputs": [
    {
     "name": "stdout",
     "output_type": "stream",
     "text": [
      "len(kp)= 63\n"
     ]
    }
   ],
   "source": [
    "src = cv2.imread('./data/CornerTest.jpg')\n",
    "gray= cv2.cvtColor(src,cv2.COLOR_BGR2GRAY)\n",
    "gray = cv2.GaussianBlur(gray, (5, 5), 0.0)\n",
    "\n",
    "orbF = cv2.ORB_create()            #HARRIS_SCORE\n",
    "#orbF = cv2.ORB_create(scoreType=1) #FAST_SCORE\n",
    "kp = orbF.detect(gray)\n",
    "dst = cv2.drawKeypoints(gray, kp, None, color= (0,0,255))\n",
    "print('len(kp)=', len(kp))\n",
    "\n",
    "cv2.imshow('dst',  dst)\n",
    "cv2.waitKey()\n",
    "cv2.destroyAllWindows()"
   ]
  },
  {
   "cell_type": "markdown",
   "id": "b40c756b",
   "metadata": {},
   "source": [
    "# BRISK"
   ]
  },
  {
   "cell_type": "code",
   "execution_count": 15,
   "id": "4ace64f5",
   "metadata": {},
   "outputs": [
    {
     "name": "stdout",
     "output_type": "stream",
     "text": [
      "len(kp)= 27\n"
     ]
    }
   ],
   "source": [
    "src = cv2.imread('./data/CornerTest.jpg')\n",
    "gray= cv2.cvtColor(src,cv2.COLOR_BGR2GRAY)\n",
    "#gray = cv2.GaussianBlur(gray, (5, 5), 0.0)\n",
    "\n",
    "briskF = cv2.BRISK_create()\n",
    "kp = briskF.detect(gray)\n",
    "dst = cv2.drawKeypoints(gray, kp, None, color= (0,0,255))\n",
    "print('len(kp)=', len(kp))\n",
    "\n",
    "cv2.imshow('dst',  dst)\n",
    "cv2.waitKey()\n",
    "cv2.destroyAllWindows()"
   ]
  },
  {
   "cell_type": "markdown",
   "id": "7347c5c1",
   "metadata": {},
   "source": [
    "# KAZE"
   ]
  },
  {
   "cell_type": "code",
   "execution_count": 24,
   "id": "54ae5a35",
   "metadata": {},
   "outputs": [
    {
     "name": "stdout",
     "output_type": "stream",
     "text": [
      "len(kp)= 24\n"
     ]
    }
   ],
   "source": [
    "src = cv2.imread('./data/CornerTest.jpg')\n",
    "gray= cv2.cvtColor(src,cv2.COLOR_BGR2GRAY)\n",
    "#gray = cv2.GaussianBlur(gray, (5, 5), 0.0)\n",
    "\n",
    "kazeF = cv2.KAZE_create()\n",
    "kp = kazeF.detect(gray)\n",
    "dst = cv2.drawKeypoints(gray, kp, None, color= (0,0,255))\n",
    "print('len(kp)=', len(kp))\n",
    "\n",
    "cv2.imshow('dst',  dst)\n",
    "cv2.waitKey()\n",
    "cv2.destroyAllWindows()"
   ]
  },
  {
   "cell_type": "markdown",
   "id": "621c63df",
   "metadata": {},
   "source": [
    "# SIFT"
   ]
  },
  {
   "cell_type": "code",
   "execution_count": 18,
   "id": "7f698ba6",
   "metadata": {
    "scrolled": true
   },
   "outputs": [
    {
     "name": "stdout",
     "output_type": "stream",
     "text": [
      "Collecting opencv-contrib-python\n",
      "  Using cached opencv_contrib_python-4.5.2.54-cp38-cp38-win_amd64.whl (41.5 MB)\n",
      "Requirement already satisfied: numpy>=1.17.3 in c:\\programdata\\anaconda3\\lib\\site-packages (from opencv-contrib-python) (1.20.1)\n",
      "Installing collected packages: opencv-contrib-python\n",
      "Successfully installed opencv-contrib-python-4.5.2.54\n"
     ]
    }
   ],
   "source": [
    "!pip install opencv-contrib-python --user"
   ]
  },
  {
   "cell_type": "code",
   "execution_count": 23,
   "id": "63c07ce9",
   "metadata": {},
   "outputs": [
    {
     "name": "stdout",
     "output_type": "stream",
     "text": [
      "len(kp)= 20\n"
     ]
    }
   ],
   "source": [
    "src = cv2.imread('./data/CornerTest.jpg')\n",
    "gray= cv2.cvtColor(src,cv2.COLOR_BGR2GRAY)\n",
    "gray = cv2.GaussianBlur(gray, (5, 5), 0.0)\n",
    "\n",
    "siftF = cv2.SIFT_create()\n",
    "kp = siftF.detect(gray)\n",
    "dst = cv2.drawKeypoints(gray, kp, None, color= (0,0,255))\n",
    "print('len(kp)=', len(kp))\n",
    "\n",
    "cv2.imshow('dst',  dst)\n",
    "cv2.waitKey()\n",
    "cv2.destroyAllWindows()"
   ]
  },
  {
   "cell_type": "markdown",
   "id": "f50cbbb7",
   "metadata": {},
   "source": [
    "# SURF"
   ]
  },
  {
   "cell_type": "code",
   "execution_count": 28,
   "id": "438239e6",
   "metadata": {},
   "outputs": [
    {
     "ename": "AttributeError",
     "evalue": "module 'cv' has no attribute 'xfeatures2d'",
     "output_type": "error",
     "traceback": [
      "\u001b[1;31m---------------------------------------------------------------------------\u001b[0m",
      "\u001b[1;31mAttributeError\u001b[0m                            Traceback (most recent call last)",
      "\u001b[1;32m<ipython-input-28-b1aa692549ed>\u001b[0m in \u001b[0;36m<module>\u001b[1;34m\u001b[0m\n\u001b[0;32m      3\u001b[0m \u001b[0mgray\u001b[0m \u001b[1;33m=\u001b[0m \u001b[0mcv2\u001b[0m\u001b[1;33m.\u001b[0m\u001b[0mGaussianBlur\u001b[0m\u001b[1;33m(\u001b[0m\u001b[0mgray\u001b[0m\u001b[1;33m,\u001b[0m \u001b[1;33m(\u001b[0m\u001b[1;36m5\u001b[0m\u001b[1;33m,\u001b[0m \u001b[1;36m5\u001b[0m\u001b[1;33m)\u001b[0m\u001b[1;33m,\u001b[0m \u001b[1;36m0.0\u001b[0m\u001b[1;33m)\u001b[0m\u001b[1;33m\u001b[0m\u001b[1;33m\u001b[0m\u001b[0m\n\u001b[0;32m      4\u001b[0m \u001b[1;33m\u001b[0m\u001b[0m\n\u001b[1;32m----> 5\u001b[1;33m \u001b[0msurfF\u001b[0m \u001b[1;33m=\u001b[0m \u001b[0mcv\u001b[0m\u001b[1;33m.\u001b[0m\u001b[0mxfeatures2d\u001b[0m\u001b[1;33m.\u001b[0m\u001b[0mSURF_create\u001b[0m\u001b[1;33m(\u001b[0m\u001b[1;33m)\u001b[0m\u001b[1;33m\u001b[0m\u001b[1;33m\u001b[0m\u001b[0m\n\u001b[0m\u001b[0;32m      6\u001b[0m \u001b[0mkp\u001b[0m \u001b[1;33m=\u001b[0m \u001b[0msurfF\u001b[0m\u001b[1;33m.\u001b[0m\u001b[0mdetect\u001b[0m\u001b[1;33m(\u001b[0m\u001b[0mgray\u001b[0m\u001b[1;33m)\u001b[0m\u001b[1;33m\u001b[0m\u001b[1;33m\u001b[0m\u001b[0m\n\u001b[0;32m      7\u001b[0m \u001b[0mdst\u001b[0m \u001b[1;33m=\u001b[0m \u001b[0mcv2\u001b[0m\u001b[1;33m.\u001b[0m\u001b[0mdrawKeypoints\u001b[0m\u001b[1;33m(\u001b[0m\u001b[0mgray\u001b[0m\u001b[1;33m,\u001b[0m \u001b[0mkp\u001b[0m\u001b[1;33m,\u001b[0m \u001b[1;32mNone\u001b[0m\u001b[1;33m,\u001b[0m \u001b[0mcolor\u001b[0m\u001b[1;33m=\u001b[0m \u001b[1;33m(\u001b[0m\u001b[1;36m0\u001b[0m\u001b[1;33m,\u001b[0m\u001b[1;36m0\u001b[0m\u001b[1;33m,\u001b[0m\u001b[1;36m255\u001b[0m\u001b[1;33m)\u001b[0m\u001b[1;33m)\u001b[0m\u001b[1;33m\u001b[0m\u001b[1;33m\u001b[0m\u001b[0m\n",
      "\u001b[1;31mAttributeError\u001b[0m: module 'cv' has no attribute 'xfeatures2d'"
     ]
    }
   ],
   "source": [
    "# src = cv2.imread('./data/CornerTest.jpg')\n",
    "# gray= cv2.cvtColor(src,cv2.COLOR_BGR2GRAY)\n",
    "# gray = cv2.GaussianBlur(gray, (5, 5), 0.0)\n",
    "\n",
    "# surfF = cv.xfeatures2d.SURF_create()\n",
    "# kp = surfF.detect(gray)\n",
    "# dst = cv2.drawKeypoints(gray, kp, None, color= (0,0,255))\n",
    "# print('len(kp)=', len(kp))\n",
    "\n",
    "# cv2.imshow('dst',  dst)\n",
    "# cv2.waitKey()\n",
    "# cv2.destroyAllWindows()"
   ]
  }
 ],
 "metadata": {
  "kernelspec": {
   "display_name": "Python 3",
   "language": "python",
   "name": "python3"
  },
  "language_info": {
   "codemirror_mode": {
    "name": "ipython",
    "version": 3
   },
   "file_extension": ".py",
   "mimetype": "text/x-python",
   "name": "python",
   "nbconvert_exporter": "python",
   "pygments_lexer": "ipython3",
   "version": "3.8.8"
  }
 },
 "nbformat": 4,
 "nbformat_minor": 5
}
