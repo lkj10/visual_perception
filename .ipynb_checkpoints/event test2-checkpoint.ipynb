{
 "cells": [
  {
   "cell_type": "code",
   "execution_count": 3,
   "id": "0ffd2192",
   "metadata": {},
   "outputs": [],
   "source": [
    "import numpy as np\n",
    "import cv2"
   ]
  },
  {
   "cell_type": "code",
   "execution_count": 21,
   "id": "a6cf1977",
   "metadata": {},
   "outputs": [
    {
     "name": "stdout",
     "output_type": "stream",
     "text": [
      "['./data/lena.jpg', './data/baboon.jpg', './data/fruits.jpg', './data/orange.jpg', './data/apple.jpg']\n"
     ]
    }
   ],
   "source": [
    "imageFile = []\n",
    "imageFile.append('./data/lena.jpg')\n",
    "imageFile.append('./data/baboon.jpg')\n",
    "imageFile.append('./data/fruits.jpg')\n",
    "imageFile.append('./data/orange.jpg')\n",
    "imageFile.append('./data/apple.jpg')\n",
    "\n",
    "print(imageFile)"
   ]
  },
  {
   "cell_type": "code",
   "execution_count": 19,
   "id": "fc421cb6",
   "metadata": {},
   "outputs": [
    {
     "name": "stdout",
     "output_type": "stream",
     "text": [
      "color image =  (512, 3)\n",
      "color image =  (512, 3)\n"
     ]
    }
   ],
   "source": [
    "image = []\n",
    "image_gray = []\n",
    "\n",
    "for i in range(len(imageFile)):\n",
    "    image.append(cv2.imread(imageFile[i]))\n",
    "    image_gray.append(cv2.imread(imageFile[i], cv2.IMREAD_GRAYSCALE))\n",
    "    \n",
    "print('color image = ', image[0][0].shape)\n",
    "print('color image = ', image[1][0].shape)"
   ]
  },
  {
   "cell_type": "code",
   "execution_count": 25,
   "id": "b4b36039",
   "metadata": {},
   "outputs": [],
   "source": [
    "idx = 0\n",
    "color = 1\n",
    "\n",
    "direction_List = [(0x270000, 'right'), (0x280000, 'down'), (0x250000, 'left'), (0x260000, 'up')]\n",
    "\n",
    "while True:\n",
    "    key = cv2.waitKeyEx(30)\n",
    "    if key == 27: # ESC\n",
    "        break\n",
    "    \n",
    "    elif key == 0x250000: # LEFT\n",
    "        idx -= 1\n",
    "        if idx < 0:\n",
    "            idx = cnt - 1\n",
    "\n",
    "    elif key == 0x270000: # RIGHT\n",
    "        idx += 1\n",
    "        idx %= cnt\n",
    "\n",
    "    elif key == 32: # SPACE\n",
    "        color *= -1\n",
    "    \n",
    "    if color == 1:\n",
    "        cv2.imshow('img', image[idx])\n",
    "    else:\n",
    "        cv2.imshow('img', image_gray[idx])\n",
    "        \n",
    "cv2.destroyAllWindows()\n",
    "        \n"
   ]
  }
 ],
 "metadata": {
  "kernelspec": {
   "display_name": "Python 3",
   "language": "python",
   "name": "python3"
  },
  "language_info": {
   "codemirror_mode": {
    "name": "ipython",
    "version": 3
   },
   "file_extension": ".py",
   "mimetype": "text/x-python",
   "name": "python",
   "nbconvert_exporter": "python",
   "pygments_lexer": "ipython3",
   "version": "3.8.8"
  }
 },
 "nbformat": 4,
 "nbformat_minor": 5
}
