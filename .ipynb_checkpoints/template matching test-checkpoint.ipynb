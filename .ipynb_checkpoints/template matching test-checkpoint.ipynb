{
 "cells": [
  {
   "cell_type": "code",
   "execution_count": 14,
   "id": "e60f13f9",
   "metadata": {
    "scrolled": true
   },
   "outputs": [],
   "source": [
    "import cv2\n",
    "import numpy as np\n",
    "import imutils"
   ]
  },
  {
   "cell_type": "code",
   "execution_count": 8,
   "id": "a66eb4ef",
   "metadata": {},
   "outputs": [
    {
     "name": "stdout",
     "output_type": "stream",
     "text": [
      "TM_SQDIFF_NORMED: 0.13091276586055756 (291, 259)\n"
     ]
    }
   ],
   "source": [
    "# src = cv2.imread('./data/input image.jpg', cv2.IMREAD_GRAYSCALE)\n",
    "# tmp = cv2.imread('./data/template.jpg', cv2.IMREAD_GRAYSCALE)\n",
    "# dst  = cv2.cvtColor(src, cv2.COLOR_GRAY2BGR)  # 출력 표시 영상\n",
    "\n",
    "# #1\n",
    "# R1 = cv2.matchTemplate(src, tmp, cv2.TM_SQDIFF_NORMED) \n",
    "# minVal, _, minLoc, _ = cv2.minMaxLoc(R1)\n",
    "# print('TM_SQDIFF_NORMED:', minVal, minLoc)\n",
    "\n",
    "\n",
    "# w, h = tmp.shape[:2]\n",
    "# #cv2.rectangle(dst, minLoc, (minLoc[0]+h, minLoc[1]+w), (255, 0, 0), 2)\n",
    "\n",
    "\n",
    "# cv2.imshow('dst',  dst)\n",
    "# cv2.waitKey()\n",
    "# cv2.destroyAllWindows()"
   ]
  },
  {
   "cell_type": "code",
   "execution_count": 22,
   "id": "818e1765",
   "metadata": {},
   "outputs": [],
   "source": [
    "src = cv2.imread('./data/input image.jpg', cv2.IMREAD_GRAYSCALE)\n",
    "tmp = cv2.imread('./data/template.jpg', cv2.IMREAD_GRAYSCALE)\n",
    "dst  = cv2.cvtColor(src, cv2.COLOR_GRAY2BGR)  # 출력 표시 영상\n",
    "\n",
    "minVal = 10000\n",
    "minLoc = (0, 0)\n",
    "minscale = 0\n",
    "\n",
    "for scale in np.linspace(1.0, 4.0, 100):\n",
    "    resized = imutils.resize(tmp, width = int(tmp.shape[1]*scale))\n",
    "    R1 = cv2.matchTemplate(src, resized, cv2.TM_SQDIFF_NORMED)\n",
    "    tempminVal, _, tempminLoc, _ = cv2.minMaxLoc(R1)\n",
    "    if minVal > tempminVal:\n",
    "        minVal, minLoc, minscale = tempminVal, tempminLoc, scale\n",
    "        \n",
    "h = int(tmp.shape[0]*minscale)\n",
    "w = int(tmp.shape[1]*minscale)\n",
    "\n",
    "cv2.rectangle(dst, minLoc, (minLoc[0]+w, minLoc[1]+h), (255, 0, 0), 2)\n",
    "\n",
    "cv2.imshow('dst',  dst)\n",
    "cv2.waitKey()\n",
    "cv2.destroyAllWindows()"
   ]
  }
 ],
 "metadata": {
  "kernelspec": {
   "display_name": "Python 3",
   "language": "python",
   "name": "python3"
  },
  "language_info": {
   "codemirror_mode": {
    "name": "ipython",
    "version": 3
   },
   "file_extension": ".py",
   "mimetype": "text/x-python",
   "name": "python",
   "nbconvert_exporter": "python",
   "pygments_lexer": "ipython3",
   "version": "3.8.8"
  }
 },
 "nbformat": 4,
 "nbformat_minor": 5
}
