{
 "cells": [
  {
   "cell_type": "code",
   "execution_count": 1,
   "id": "6baddf70",
   "metadata": {},
   "outputs": [],
   "source": [
    "import cv2\n",
    "import numpy as np"
   ]
  },
  {
   "cell_type": "markdown",
   "id": "3a8962c8",
   "metadata": {},
   "source": [
    "# preConerDetector"
   ]
  },
  {
   "cell_type": "code",
   "execution_count": 7,
   "id": "035df78d",
   "metadata": {},
   "outputs": [],
   "source": [
    "def findLocalMaxima(src):\n",
    "    kernel = cv2.getStructuringElement(shape=cv2.MORPH_RECT, ksize=(11, 11))\n",
    "    dilate = cv2.dilate(src, kernel)\n",
    "    localMax = (src == dilate)\n",
    "    \n",
    "    erode = cv2.erode(src, kernel)\n",
    "    localMax2 = (src > erode)\n",
    "    localMax &= localMax2\n",
    "    points = np.argwhere(localMax == True)\n",
    "    points[:,[0, 1]] = points[:,[1, 0]]\n",
    "    return points"
   ]
  },
  {
   "cell_type": "code",
   "execution_count": 9,
   "id": "01bcb81a",
   "metadata": {},
   "outputs": [
    {
     "name": "stdout",
     "output_type": "stream",
     "text": [
      "8\n"
     ]
    }
   ],
   "source": [
    "src = cv2.imread('./data/CornerTest.jpg')\n",
    "gray = cv2.cvtColor(src, cv2.COLOR_BGR2GRAY)\n",
    "res = cv2.preCornerDetect(gray, ksize=3)\n",
    "ret, res2 = cv2.threshold(np.abs(res), 0.1, 0, cv2.THRESH_TOZERO)\n",
    "#0.1 이하인 애들은 0으로 채워라.\n",
    "corners = findLocalMaxima(res2)\n",
    "print(len(corners)) # corner가 몇 개 인지 출력\n",
    "\n",
    "dst = src.copy()  \n",
    "for x, y in corners:    \n",
    "    cv2.circle(dst, (x, y), 5, (0,0,255), 2)\n",
    "    \n",
    "cv2.imshow('src',  src) \n",
    "cv2.imshow('dst',  dst) \n",
    "cv2.waitKey()\n",
    "cv2.destroyAllWindows()"
   ]
  },
  {
   "cell_type": "markdown",
   "id": "f87359f2",
   "metadata": {},
   "source": [
    "# cornerMinEigenVal"
   ]
  },
  {
   "cell_type": "code",
   "execution_count": 10,
   "id": "32497b66",
   "metadata": {},
   "outputs": [
    {
     "name": "stdout",
     "output_type": "stream",
     "text": [
      "eigen.shape= (512, 512)\n",
      "len(corners ) = 8\n"
     ]
    }
   ],
   "source": [
    "src = cv2.imread('./data/CornerTest.jpg')\n",
    "gray = cv2.cvtColor(src, cv2.COLOR_BGR2GRAY)\n",
    "eigen = cv2.cornerMinEigenVal(gray, blockSize=5)\n",
    "print('eigen.shape=', eigen.shape)\n",
    "\n",
    "T = 0.2 # \n",
    "corners  = np.argwhere(eigen > T) #0.2보다 큰 애들만 coners에 저장\n",
    "corners[:,[0, 1]] = corners[:,[1, 0]] # switch x, y\n",
    "print('len(corners ) =', len(corners ))\n",
    "dst = src.copy()\n",
    "for x, y in corners :    \n",
    "    cv2.circle(dst, (x, y), 3, (0,0,255), 2)\n",
    "    \n",
    "cv2.imshow('dst',  dst)\n",
    "cv2.waitKey()\n",
    "cv2.destroyAllWindows()\n"
   ]
  },
  {
   "cell_type": "markdown",
   "id": "de3209bd",
   "metadata": {},
   "source": [
    "# cornerHarris"
   ]
  },
  {
   "cell_type": "code",
   "execution_count": 11,
   "id": "6de591d2",
   "metadata": {},
   "outputs": [
    {
     "name": "stdout",
     "output_type": "stream",
     "text": [
      "corners= [[109 127]\n",
      " [264 127]\n",
      " [267 167]\n",
      " [386 170]\n",
      " [109 268]\n",
      " [167 271]\n",
      " [170 374]\n",
      " [386 374]]\n"
     ]
    }
   ],
   "source": [
    "src = cv2.imread('./data/CornerTest.jpg')\n",
    "gray = cv2.cvtColor(src, cv2.COLOR_BGR2GRAY)\n",
    "res = cv2.cornerHarris(gray, blockSize=5, ksize=3, k=0.01)\n",
    "ret, res = cv2.threshold(np.abs(res),0.02, 0, cv2.THRESH_TOZERO)\n",
    "corners = findLocalMaxima(res)\n",
    "print('corners=', corners)\n",
    "\n",
    "dst = src.copy()\n",
    "for x, y in corners:    \n",
    "    cv2.circle(dst, (x, y), 3, (0,0,255), 2)\n",
    "cv2.imshow('dst',  dst)\n",
    "cv2.waitKey()\n",
    "cv2.destroyAllWindows()\n"
   ]
  },
  {
   "cell_type": "markdown",
   "id": "a38b37d0",
   "metadata": {},
   "source": [
    "# FAST"
   ]
  },
  {
   "cell_type": "code",
   "execution_count": 12,
   "id": "30eed2ed",
   "metadata": {},
   "outputs": [],
   "source": [
    "src = cv2.imread('./data/CornerTest.jpg')\n",
    "gray = cv2.cvtColor(src, cv2.COLOR_BGR2GRAY)\n",
    "\n",
    "fast = cv2.FastFeatureDetector_create(30)\n",
    "fast.setNonmaxSuppression(0)#1로 설정하면 못찾음\n",
    "kp = fast.detect(src, None)\n",
    "dst = src.copy()\n",
    "cv2.drawKeypoints(src, kp, dst, (0, 0, 255))\n",
    "\n",
    "cv2.imshow('dst',  dst)\n",
    "cv2.waitKey()\n",
    "cv2.destroyAllWindows()\n"
   ]
  },
  {
   "cell_type": "markdown",
   "id": "913c0377",
   "metadata": {},
   "source": [
    "# ChessboardCorners"
   ]
  },
  {
   "cell_type": "code",
   "execution_count": 14,
   "id": "f8810098",
   "metadata": {},
   "outputs": [
    {
     "name": "stdout",
     "output_type": "stream",
     "text": [
      "corners.shape= (18, 1, 2)\n"
     ]
    }
   ],
   "source": [
    "src = cv2.imread('./data/ChessBoard.jpg')\n",
    "gray = cv2.cvtColor(src, cv2.COLOR_BGR2GRAY)\n",
    "patternSize = (6, 3)\n",
    "found, corners = cv2.findChessboardCorners(src, patternSize)\n",
    "print('corners.shape=', corners.shape)\n",
    "\n",
    "dst = src.copy()\n",
    "cv2.drawChessboardCorners(dst, patternSize, corners, found)\n",
    "\n",
    "cv2.imshow('dst',  dst) \n",
    "cv2.waitKey()\n",
    "cv2.destroyAllWindows()\n"
   ]
  },
  {
   "cell_type": "markdown",
   "id": "761fb7b3",
   "metadata": {},
   "source": [
    "# CirclesGrid"
   ]
  },
  {
   "cell_type": "code",
   "execution_count": 16,
   "id": "7dcb0ec9",
   "metadata": {},
   "outputs": [
    {
     "name": "stdout",
     "output_type": "stream",
     "text": [
      "centers.shape= (24, 1, 2)\n"
     ]
    }
   ],
   "source": [
    "src = cv2.imread('./data/circleGrid.jpg')\n",
    "gray = cv2.cvtColor(src, cv2.COLOR_BGR2GRAY)\n",
    "patternSize = (6, 4)\n",
    "found, centers = cv2.findCirclesGrid(src, patternSize)\n",
    "print('centers.shape=', centers.shape)\n",
    "\n",
    "dst = src.copy()\n",
    "cv2.drawChessboardCorners(dst, patternSize, centers, found)\n",
    "\n",
    "cv2.imshow('dst',  dst) \n",
    "cv2.waitKey()\n",
    "cv2.destroyAllWindows()\n"
   ]
  }
 ],
 "metadata": {
  "kernelspec": {
   "display_name": "Python 3",
   "language": "python",
   "name": "python3"
  },
  "language_info": {
   "codemirror_mode": {
    "name": "ipython",
    "version": 3
   },
   "file_extension": ".py",
   "mimetype": "text/x-python",
   "name": "python",
   "nbconvert_exporter": "python",
   "pygments_lexer": "ipython3",
   "version": "3.8.8"
  }
 },
 "nbformat": 4,
 "nbformat_minor": 5
}
