{
 "cells": [
  {
   "cell_type": "code",
   "execution_count": 7,
   "id": "83570bdc",
   "metadata": {},
   "outputs": [],
   "source": [
    "import numpy as np\n",
    "import cv2"
   ]
  },
  {
   "cell_type": "code",
   "execution_count": 12,
   "id": "5de66f72",
   "metadata": {},
   "outputs": [],
   "source": [
    "width, height = 512, 512\n",
    "x, y, R = 256, 256, 50\n",
    "\n",
    "direction = 'right'\n",
    "text = ''\n",
    "font = cv2.FONT_HERSHEY_SIMPLEX"
   ]
  },
  {
   "cell_type": "code",
   "execution_count": 19,
   "id": "136c7cf3",
   "metadata": {},
   "outputs": [],
   "source": [
    "direction_List = [(0x270000, 'right'), (0x280000, 'down'), (0x250000, 'left'), (0x260000, 'up')]\n",
    "\n",
    "while True:\n",
    "    #방향키 방향전환\n",
    "    key = cv2.waitKeyEx(30)\n",
    "    if key == 0x1B: # ESC\n",
    "        break\n",
    "    elif key == direction_List[0][0]:\n",
    "        direction = direction_List[0][1]\n",
    "\n",
    "    elif key == direction_List[1][0]:\n",
    "        direction = direction_List[1][1]\n",
    "\n",
    "    elif key == direction_List[2][0]:\n",
    "        direction = direction_List[2][1]\n",
    "\n",
    "    elif key == direction_List[3][0]:\n",
    "        direction = direction_List[3][1]\n",
    "    \n",
    "    \n",
    "    # 방향으로 이동\n",
    "    if direction == direction_List[0][1] :\n",
    "        x += 10\n",
    "        \n",
    "    elif direction == direction_List[1][1]:\n",
    "        y += 10\n",
    "        \n",
    "    elif direction == direction_List[2][1]:\n",
    "        x -= 10\n",
    "\n",
    "    elif direction == direction_List[3][1]:\n",
    "        y -= 10\n",
    "\n",
    "        \n",
    "    \n",
    "    #경계 확인\n",
    "    if x < R:\n",
    "        x = R\n",
    "        direction = direction_List[0][1]\n",
    "        \n",
    "    if x > width - R:\n",
    "        x = width - R\n",
    "        direction = direction_List[2][1]\n",
    "\n",
    "    if y < R:\n",
    "        y = R\n",
    "        direction = direction_List[1][1]\n",
    "        \n",
    "    if y > height - R:\n",
    "        y = height - R\n",
    "        direction = direction_List[3][1]\n",
    "    \n",
    "    #지우고 그리기\n",
    "    img = np.zeros((width, height, 3), np.uint8) + 255 # 지우기\n",
    "    cv2.circle(img, (x, y), R, (0, 0, 255), -1)\n",
    "    cv2.putText(img,direction, (15, 25), font, 1, (255, 0, 0), 2)\n",
    "    cv2.imshow('img', img)\n",
    "cv2.destroyAllWindows()\n",
    "\n",
    "        "
   ]
  }
 ],
 "metadata": {
  "kernelspec": {
   "display_name": "Python 3",
   "language": "python",
   "name": "python3"
  },
  "language_info": {
   "codemirror_mode": {
    "name": "ipython",
    "version": 3
   },
   "file_extension": ".py",
   "mimetype": "text/x-python",
   "name": "python",
   "nbconvert_exporter": "python",
   "pygments_lexer": "ipython3",
   "version": "3.8.8"
  }
 },
 "nbformat": 4,
 "nbformat_minor": 5
}
