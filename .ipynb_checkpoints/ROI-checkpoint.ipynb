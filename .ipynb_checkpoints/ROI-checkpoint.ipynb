{
 "cells": [
  {
   "cell_type": "code",
   "execution_count": 6,
   "id": "0a343ce7",
   "metadata": {},
   "outputs": [
    {
     "name": "stdout",
     "output_type": "stream",
     "text": [
      "512 512\n",
      "256 256\n"
     ]
    }
   ],
   "source": [
    "import cv2\n",
    "import numpy as np\n",
    "\n",
    "img = cv2.imread('./data/lena.jpg', cv2.IMREAD_GRAYSCALE)\n",
    "\n",
    "(h, w) = img.shape\n",
    "print(h, w)\n",
    "\n",
    "(cy, cx) = (h//2, w//2)\n",
    "print(cy, cx)\n",
    "\n",
    "roi = img[0:cy, 0:cx] # 참조?? \n",
    "\n",
    "img[0:cy, 0:cx] = 255\n",
    "\n",
    "cv2.imshow('img', img)\n",
    "cv2.imshow('ROI', roi)\n",
    "cv2.waitKey()\n",
    "cv2.destroyAllWindows()"
   ]
  },
  {
   "cell_type": "code",
   "execution_count": 13,
   "id": "fb1e04ea",
   "metadata": {},
   "outputs": [
    {
     "name": "stdout",
     "output_type": "stream",
     "text": [
      "[1, 2, 3, 4, 5] [1, 2, 3, 4, 5]\n",
      "[4, 5, 6, 4, 5] [4, 5, 6, 4, 5]\n",
      "[1, 2, 3, 4, 5] [1, 2, 3]\n",
      "[4, 5, 6, 4, 5] [1, 2, 3]\n"
     ]
    }
   ],
   "source": [
    "List = [1, 2, 3, 4, 5]\n",
    "List2 = list()\n",
    "List2 = List\n",
    "\n",
    "print(List, List2)\n",
    "\n",
    "List[:3] = [4, 5, 6]\n",
    "\n",
    "print(List, List2)\n",
    "\n",
    "\n",
    "List = [1, 2, 3, 4, 5]\n",
    "List2 = List[:3]\n",
    "\n",
    "print(List, List2)\n",
    "\n",
    "List[:3] = [4, 5, 6]\n",
    "\n",
    "print(List, List2)"
   ]
  }
 ],
 "metadata": {
  "kernelspec": {
   "display_name": "Python 3",
   "language": "python",
   "name": "python3"
  },
  "language_info": {
   "codemirror_mode": {
    "name": "ipython",
    "version": 3
   },
   "file_extension": ".py",
   "mimetype": "text/x-python",
   "name": "python",
   "nbconvert_exporter": "python",
   "pygments_lexer": "ipython3",
   "version": "3.8.8"
  }
 },
 "nbformat": 4,
 "nbformat_minor": 5
}
