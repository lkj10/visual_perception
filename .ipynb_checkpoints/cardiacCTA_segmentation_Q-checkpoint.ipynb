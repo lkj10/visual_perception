{
 "cells": [
  {
   "cell_type": "code",
   "execution_count": 2,
   "metadata": {},
   "outputs": [],
   "source": [
    "import cv2\n",
    "import numpy as np\n",
    "import matplotlib.pyplot as plt\n",
    "import sklearn.metrics as metrics"
   ]
  },
  {
   "cell_type": "code",
   "execution_count": 3,
   "metadata": {},
   "outputs": [],
   "source": [
    "def calcSim(target, predict):\n",
    "    \n",
    "    if len(target) != len(predict):\n",
    "        return -1\n",
    "    \n",
    "    num_target = 0\n",
    "    num_predict = 0\n",
    "    num_union = 0\n",
    "    \n",
    "    for i in range(len(target)):\n",
    "        if (target[i] != 0):\n",
    "            num_target = num_target + 1            \n",
    "        if (predict[i] != 0):\n",
    "            num_predict = num_predict + 1\n",
    "        if (target[i] != 0) and (target[i] == predict[i]):\n",
    "            num_union = num_union + 1\n",
    "            \n",
    "    sim = 2*(num_union/(num_target+num_predict))\n",
    "    \n",
    "    return sim"
   ]
  },
  {
   "cell_type": "code",
   "execution_count": 80,
   "metadata": {},
   "outputs": [],
   "source": [
    "src = cv2.imread('./data/cardiac_cta.bmp')\n",
    "gray = cv2.cvtColor(src,cv2.COLOR_BGR2GRAY)\n",
    "target = cv2.imread('./data/cardiac_label.bmp', cv2.IMREAD_GRAYSCALE)"
   ]
  },
  {
   "cell_type": "code",
   "execution_count": 87,
   "metadata": {},
   "outputs": [],
   "source": [
    "ret, dst = cv2.threshold(gray,180, 255, cv2.THRESH_BINARY)\n",
    "ret, labels, stats, centroids = cv2.connectedComponentsWithStats(dst)# 이걸 더 많이 씀\n",
    "\n",
    "cv2.imshow('src',  dst)\n",
    "cv2.waitKey()\n",
    "cv2.destroyAllWindows()"
   ]
  },
  {
   "cell_type": "code",
   "execution_count": null,
   "metadata": {},
   "outputs": [],
   "source": [
    "kernel = cv2.getStructuringElement(shape=cv2.MORPH_RECT, ksize=(3, 3))\n",
    "erode = cv2.getStructuringElement(shape=cv2.MORPH_RECT, ksize=(3, 3))\n",
    "kernel = cv2.getStructuringElement(shape=cv2.MORPH_RECT, ksize=(3, 3))"
   ]
  },
  {
   "cell_type": "code",
   "execution_count": 84,
   "metadata": {},
   "outputs": [],
   "source": [
    "res = np.zeros(src.shape, dtype=src.dtype)\n",
    "for i in range(1, int(ret)): # 분할영역 표시\n",
    "    r = np.random.randint(256)\n",
    "    g = np.random.randint(256)\n",
    "    b = np.random.randint(256)\n",
    "    res[labels == i] = [r, g, b]"
   ]
  },
  {
   "cell_type": "code",
   "execution_count": 86,
   "metadata": {},
   "outputs": [],
   "source": [
    "cv2.imshow('src',  src)\n",
    "cv2.imshow('dst',  res) \n",
    "cv2.waitKey()\n",
    "cv2.destroyAllWindows()"
   ]
  },
  {
   "cell_type": "code",
   "execution_count": null,
   "metadata": {},
   "outputs": [],
   "source": [
    "plt.figure(figsize=(15, 15))\n",
    "plt.subplot(1, 3, 1)\n",
    "plt.axis('off')\n",
    "plt.imshow(src, cmap='gray')\n",
    "\n",
    "plt.subplot(1, 3, 2)\n",
    "plt.axis('off')\n",
    "plt.imshow(predict, cmap='gray')\n",
    "\n",
    "plt.subplot(1, 3, 3)\n",
    "plt.axis('off')\n",
    "plt.imshow(target, cmap='gray')"
   ]
  },
  {
   "cell_type": "code",
   "execution_count": null,
   "metadata": {},
   "outputs": [],
   "source": [
    "target = target.flatten()\n",
    "predict = predict.flatten()\n",
    "print(target.shape)\n",
    "print(predict.shape)\n",
    "\n",
    "target[target[:] == 255] = 1\n",
    "predict[predict[:] == 255] = 1\n",
    "\n",
    "sim = calcSim(target, predict)\n",
    "print(\"similarity: \", sim)"
   ]
  },
  {
   "cell_type": "code",
   "execution_count": null,
   "metadata": {},
   "outputs": [],
   "source": []
  }
 ],
 "metadata": {
  "kernelspec": {
   "display_name": "Python 3",
   "language": "python",
   "name": "python3"
  },
  "language_info": {
   "codemirror_mode": {
    "name": "ipython",
    "version": 3
   },
   "file_extension": ".py",
   "mimetype": "text/x-python",
   "name": "python",
   "nbconvert_exporter": "python",
   "pygments_lexer": "ipython3",
   "version": "3.8.8"
  }
 },
 "nbformat": 4,
 "nbformat_minor": 4
}
