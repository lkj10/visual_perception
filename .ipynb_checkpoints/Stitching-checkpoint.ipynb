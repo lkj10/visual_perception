{
 "cells": [
  {
   "cell_type": "markdown",
   "id": "99b17944",
   "metadata": {},
   "source": [
    "# Image Stitching"
   ]
  },
  {
   "cell_type": "code",
   "execution_count": 1,
   "id": "cf2da970",
   "metadata": {},
   "outputs": [],
   "source": [
    "import cv2\n",
    "\n",
    "#1\n",
    "src1 = cv2.imread('./data/stitch/stitch_image1.jpg')\n",
    "src2 = cv2.imread('./data/stitch/stitch_image2.jpg')\n",
    "src3 = cv2.imread('./data/stitch/stitch_image3.jpg')\n",
    "src4 = cv2.imread('./data/stitch/stitch_image4.jpg')\n",
    "stitcher = cv2.Stitcher.create(cv2.Stitcher_PANORAMA)\n",
    "\n",
    "status, dst2 = stitcher.stitch((src1, src2))\n",
    "status, dst3 = stitcher.stitch((src2, src3))\n",
    "status, dst4 = stitcher.stitch((src3, src4))\n",
    "\n",
    "cv2.imshow('src1',  src1)\n",
    "cv2.imshow('dst2',  dst2)\n",
    "cv2.imshow('dst3',  dst3)\n",
    "cv2.imshow('dst4',  dst4)\n",
    "cv2.waitKey()\n",
    "cv2.destroyAllWindows()"
   ]
  },
  {
   "cell_type": "markdown",
   "id": "849f4ff1",
   "metadata": {},
   "source": [
    "# Video Stitching"
   ]
  },
  {
   "cell_type": "code",
   "execution_count": null,
   "id": "9df8a33a",
   "metadata": {},
   "outputs": [],
   "source": [
    "import cv2\n",
    " \n",
    "#1\n",
    "cap = cv2.VideoCapture('./data/stitch/stitch_videoInput.mp4')\n",
    "t = 0 \n",
    "images = []\n",
    "STEP = 20\n",
    "\n",
    "while True:\n",
    "    t += 1\n",
    "    retval, frame = cap.read()\n",
    "    if not retval:\n",
    "        break\n",
    "    img = cv2.resize(frame, dsize=(640, 480))\n",
    "    img = cv2.rotate(img, cv2.ROTATE_90_CLOCKWISE)\n",
    "    if t%STEP == 0:\n",
    "        images.append(img)\n",
    "        \n",
    "    cv2.imshow('img',img)\n",
    "    key = cv2.waitKey(25)\n",
    "    if key == 27: # Esc\n",
    "        break\n",
    "        \n",
    "#2\n",
    "print('len(images)=', len(images))\n",
    "stitcher = cv2.Stitcher.create(cv2.Stitcher_PANORAMA)\n",
    "status, dst = stitcher.stitch(images)\n",
    "if status == cv2.STITCHER_OK:\n",
    "    cv2.imshow('dst',dst)\n",
    "    cv2.waitKey()\n",
    "\n",
    "if cap.isOpened():\n",
    "    cap.release()\n",
    "cv2.destroyAllWindows()"
   ]
  },
  {
   "cell_type": "code",
   "execution_count": null,
   "id": "6f8bb326",
   "metadata": {},
   "outputs": [
    {
     "name": "stdout",
     "output_type": "stream",
     "text": [
      "len(images)= 3\n"
     ]
    }
   ],
   "source": []
  }
 ],
 "metadata": {
  "kernelspec": {
   "display_name": "Python 3",
   "language": "python",
   "name": "python3"
  },
  "language_info": {
   "codemirror_mode": {
    "name": "ipython",
    "version": 3
   },
   "file_extension": ".py",
   "mimetype": "text/x-python",
   "name": "python",
   "nbconvert_exporter": "python",
   "pygments_lexer": "ipython3",
   "version": "3.8.8"
  }
 },
 "nbformat": 4,
 "nbformat_minor": 5
}
