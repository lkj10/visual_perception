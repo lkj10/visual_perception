{
 "cells": [
  {
   "cell_type": "code",
   "execution_count": 4,
   "id": "321cbb29",
   "metadata": {},
   "outputs": [],
   "source": [
    "import cv2\n",
    "import numpy as np\n",
    "\n",
    "#White 배경 생성\n",
    "img = np.zeros(shape=(512, 512, 3), dtype=np.uint8) + 255 # uint = unsigned character(8bit)\n",
    "\n",
    "#img = np.ones((512, 512, 3), np.uint8) * 255\n",
    "#img = np.full((512, 512, 3), (255, 255, 255), dtype = np.uint8)\n",
    "#img = np.zeros((512, 512, 3), np.uint8) #Black 배경\n",
    "\n",
    "pt1 = 100, 100\n",
    "pt2 = 400, 400\n",
    "\n",
    "cv2.rectangle(img, pt1, pt2, (0, 255, 0), 2)# img 점 2개, 색깔, 두께\n",
    "\n",
    "cv2.line(img, (0, 0), (500, 0), (255, 0, 0), 5)\n",
    "cv2.line(img, (0, 0), (0, 500), (0, 0, 255), 5)\n",
    "\n",
    "cv2.imshow('img', img)\n",
    "cv2.waitKey()\n",
    "cv2.destroyAllWindows()"
   ]
  },
  {
   "cell_type": "code",
   "execution_count": 6,
   "id": "0637a429",
   "metadata": {},
   "outputs": [],
   "source": [
    "img = np.zeros(shape = (512, 512, 3), dtype = np.uint8) + 255\n",
    "\n",
    "x1, x2 = 100, 400\n",
    "y1, y2 = 100, 400\n",
    "cv2.rectangle(img, (x1, y1), (x2, y2), (0, 0, 255))\n",
    "\n",
    "pt1 = 120, 50\n",
    "pt2 = 300, 500\n",
    "\n",
    "cv2.line(img, pt1, pt2, (255, 0, 0), 2)\n",
    "\n",
    "imgRect = (x1, y1, x2-x1, y2-y1)\n",
    "retval, rpt1, rpt2 = cv2.clipLine(imgRect, pt1, pt2)\n",
    "\n",
    "if retval:\n",
    "    cv2.circle(img, rpt1, radius=5, color=(0,255,0), thickness= -1)\n",
    "    cv2.circle(img, rpt2, radius=5, color=(0,255,0), thickness= -1)\n",
    "\n",
    "cv2.imshow('img', img)\n",
    "cv2.waitKey()\n",
    "cv2.destroyAllWindows()\n"
   ]
  },
  {
   "cell_type": "code",
   "execution_count": 8,
   "id": "64910a18",
   "metadata": {},
   "outputs": [
    {
     "name": "stdout",
     "output_type": "stream",
     "text": [
      "size =  (345, 22)\n",
      "baseLine =  10\n"
     ]
    }
   ],
   "source": [
    "img = np.zeros(shape = (512, 512, 3), dtype = np.uint8) + 255\n",
    "\n",
    "text = 'OpenCV Programming'\n",
    "org = (50, 100)\n",
    "font = cv2.FONT_HERSHEY_SIMPLEX\n",
    "cv2.putText(img, text, org, font, 1, (255,0,0), 2)\n",
    "\n",
    "size, baseLine = cv2.getTextSize(text, font, 1, 2)\n",
    "print(\"size = \", size)\n",
    "print(\"baseLine = \", baseLine)\n",
    "\n",
    "cv2.rectangle(img, org, (org[0] + size[0], org[1]-size[1]), (0, 0, 255))\n",
    "cv2.circle(img, org, 3, (0, 255, 0), 2)\n",
    "\n",
    "cv2.imshow('img', img)\n",
    "cv2.waitKey()\n",
    "cv2.destroyAllWindows()"
   ]
  }
 ],
 "metadata": {
  "kernelspec": {
   "display_name": "Python 3",
   "language": "python",
   "name": "python3"
  },
  "language_info": {
   "codemirror_mode": {
    "name": "ipython",
    "version": 3
   },
   "file_extension": ".py",
   "mimetype": "text/x-python",
   "name": "python",
   "nbconvert_exporter": "python",
   "pygments_lexer": "ipython3",
   "version": "3.8.8"
  }
 },
 "nbformat": 4,
 "nbformat_minor": 5
}
