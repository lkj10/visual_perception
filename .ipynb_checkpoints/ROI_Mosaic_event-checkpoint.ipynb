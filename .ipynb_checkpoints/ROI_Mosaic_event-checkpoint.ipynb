{
 "cells": [
  {
   "cell_type": "code",
   "execution_count": 1,
   "metadata": {},
   "outputs": [],
   "source": [
    "import cv2\n",
    "import numpy as np"
   ]
  },
  {
   "cell_type": "code",
   "execution_count": null,
   "metadata": {},
   "outputs": [],
   "source": [
    "# src = cv2.imread('./data/fruits.jpg', cv2.IMREAD_GRAYSCALE)\n",
    "# src2 = src.copy()\n",
    "\n",
    "\n",
    "# def onChange(N):\n",
    "#     n = cv2.getTrackbarPos('N', 'src2')\n",
    "#     N = n\n",
    "#     h = height // N\n",
    "#     w = width // N\n",
    "#     for i in range(N):\n",
    "#         for j in range(N):\n",
    "#             y = i*h\n",
    "#             x = j*w\n",
    "#             roi = src[y:y+h, x:x+w]\n",
    "#             val = cv2.mean(roi)\n",
    "#             src2[y:y+h, x:x+w] = val[0]\n",
    "#     cv2.imshow('src2', src2)\n",
    "\n",
    "# cv2.imshow('src2', src2)\n",
    "# cv2.createTrackbar('N', 'src2', 0, 255, onChange)\n",
    "# cv2.waitKey()\n",
    "# cv2.destroyAllWindows()"
   ]
  },
  {
   "cell_type": "code",
   "execution_count": 3,
   "metadata": {},
   "outputs": [
    {
     "name": "stdout",
     "output_type": "stream",
     "text": [
      "rects= (98, 221, 389, 166) type(rects= ) <class 'tuple'>\n"
     ]
    }
   ],
   "source": [
    "src = cv2.imread('./data/fruits.jpg', cv2.IMREAD_GRAYSCALE)\n",
    "src2 = src.copy()\n",
    "rects = cv2.selectROI('src',src, False, False)\n",
    "\n",
    "\n",
    "def onChange(pos):\n",
    "    #n = cv2.getTrackbarPos('N', 'src2')\n",
    "    N = pos\n",
    "    if N < 1:\n",
    "        N = 1\n",
    "    h = rects[3] // N\n",
    "    w = rects[2] // N\n",
    "    for i in range(N):\n",
    "        for j in range(N):\n",
    "            y = rects[1] + i*h\n",
    "            x = rects[0] + j*w\n",
    "            roi = src[y:y+h, x:x+w]\n",
    "            val = cv2.mean(roi)\n",
    "            src2[y:y+h, x:x+w] = val[0]\n",
    "    cv2.imshow('src2', src2)\n",
    "    \n",
    "print('rects=', rects, 'type(rects= )', type(rects))\n",
    "    \n",
    "cv2.imshow('src2', src2)\n",
    "cv2.createTrackbar('N', 'src2', 20, 100, onChange) #최솟값 20으로 했는데 왜 0까지 갈까?\n",
    "#=> 버전 업 되면서 setTrackbar가 사라지고 createTrackbar에서 최솟값에 위치한 부분이 set으로 지정됨\n",
    "#최솟값은 0으로 고정. 따라서 함수에서 0이하로 못가게 하도록 처리를 해야할 듯.\n",
    "cv2.waitKey()\n",
    "cv2.destroyAllWindows()"
   ]
  },
  {
   "cell_type": "code",
   "execution_count": null,
   "metadata": {},
   "outputs": [],
   "source": []
  }
 ],
 "metadata": {
  "kernelspec": {
   "display_name": "Python 3",
   "language": "python",
   "name": "python3"
  },
  "language_info": {
   "codemirror_mode": {
    "name": "ipython",
    "version": 3
   },
   "file_extension": ".py",
   "mimetype": "text/x-python",
   "name": "python",
   "nbconvert_exporter": "python",
   "pygments_lexer": "ipython3",
   "version": "3.8.8"
  }
 },
 "nbformat": 4,
 "nbformat_minor": 4
}
