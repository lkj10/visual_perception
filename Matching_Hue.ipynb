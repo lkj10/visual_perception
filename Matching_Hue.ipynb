{
 "cells": [
  {
   "cell_type": "markdown",
   "id": "2a62e64b",
   "metadata": {},
   "source": [
    "# Matching using Hu Invariant Moment"
   ]
  },
  {
   "cell_type": "code",
   "execution_count": 6,
   "id": "d4fed6fd",
   "metadata": {},
   "outputs": [],
   "source": [
    "import cv2\n",
    "import numpy as np"
   ]
  },
  {
   "cell_type": "code",
   "execution_count": 4,
   "id": "0d5730a2",
   "metadata": {},
   "outputs": [],
   "source": [
    "ref_src  = cv2.imread('./data/refShapes.jpg')\n",
    "ref_gray = cv2.cvtColor(ref_src, cv2.COLOR_BGR2GRAY)\n",
    "ret, ref_bin = cv2.threshold(ref_gray, 0, 255, \n",
    "                             cv2.THRESH_BINARY_INV+cv2.THRESH_OTSU)\n",
    "\n",
    "test_src  = cv2.imread('./data/testShapes.jpg')\n",
    "test_gray = cv2.cvtColor(test_src, cv2.COLOR_BGR2GRAY)\n",
    "ret, test_bin = cv2.threshold(test_gray, 0, 255, \n",
    "                              cv2.THRESH_BINARY_INV+cv2.THRESH_OTSU)\n",
    "\n",
    "cv2.imshow('ref_gray',  ref_gray)\n",
    "cv2.imshow('test_gray', test_gray)\n",
    "cv2.waitKey()\n",
    "cv2.destroyAllWindows()"
   ]
  },
  {
   "cell_type": "code",
   "execution_count": 8,
   "id": "e1d3aba9",
   "metadata": {},
   "outputs": [],
   "source": [
    "mode   = cv2.RETR_EXTERNAL\n",
    "method = cv2.CHAIN_APPROX_SIMPLE\n",
    "ref_contours, _ = cv2.findContours(ref_bin, mode, method)\n",
    "test_contours, _ = cv2.findContours(test_bin, mode, method)"
   ]
  },
  {
   "cell_type": "code",
   "execution_count": 12,
   "id": "033b29a3",
   "metadata": {},
   "outputs": [],
   "source": [
    "ref_dst = ref_src.copy()\n",
    "colors = ((0,0,255), (0,255,0), (255,0,0))\n",
    "for i, cnt in enumerate(ref_contours):\n",
    "    cv2.drawContours(ref_dst, [cnt], 0, colors[i], 2)\n",
    "\n",
    "test_dst = test_src.copy()\n",
    "method = cv2.CONTOURS_MATCH_I1    \n",
    "for i, cnt1 in enumerate(test_contours):\n",
    "    matches = []\n",
    "    for cnt2 in ref_contours:\n",
    "        ret = cv2.matchShapes(cnt1, cnt2, method, 0)\n",
    "        matches.append(ret)\n",
    "    k = np.argmin(matches)#argmin : matches의 최솟값 위치\n",
    "    cv2.drawContours(test_dst, [cnt1], 0, colors[k], 2)\n",
    "    \n",
    "cv2.imshow('ref_dst',  ref_dst)\n",
    "cv2.imshow('test_dst', test_dst)\n",
    "cv2.waitKey()\n",
    "cv2.destroyAllWindows()"
   ]
  }
 ],
 "metadata": {
  "kernelspec": {
   "display_name": "Python 3",
   "language": "python",
   "name": "python3"
  },
  "language_info": {
   "codemirror_mode": {
    "name": "ipython",
    "version": 3
   },
   "file_extension": ".py",
   "mimetype": "text/x-python",
   "name": "python",
   "nbconvert_exporter": "python",
   "pygments_lexer": "ipython3",
   "version": "3.8.8"
  }
 },
 "nbformat": 4,
 "nbformat_minor": 5
}
