{
 "cells": [
  {
   "cell_type": "code",
   "execution_count": null,
   "metadata": {},
   "outputs": [],
   "source": [
    "import cv2\n",
    "import numpy as np\n",
    "%matplotlib inline\n",
    "import matplotlib.pyplot as plt"
   ]
  },
  {
   "cell_type": "code",
   "execution_count": null,
   "metadata": {},
   "outputs": [],
   "source": [
    "src1_bgr = cv2.imread('./data/book1.jpg')\n",
    "src2_bgr = cv2.imread('./data/book2.jpg')\n",
    "img1= cv2.cvtColor(src1_bgr,cv2.COLOR_BGR2GRAY)\n",
    "img2= cv2.cvtColor(src2_bgr,cv2.COLOR_BGR2GRAY)\n",
    "src1_rgb = cv2.cvtColor(src1_bgr,cv2.COLOR_BGR2RGB)\n",
    "src2_rgb = cv2.cvtColor(src2_bgr,cv2.COLOR_BGR2RGB)\n",
    "\n",
    "plt.figure(figsize=(10,30))\n",
    "imgae=plt.subplot(1,2,1)\n",
    "imgae.set_title('img1')\n",
    "plt.axis('off')\n",
    "plt.imshow(src1_rgb)\n",
    "\n",
    "imgae=plt.subplot(1,2,2)\n",
    "imgae.set_title('img2')\n",
    "plt.axis('off')\n",
    "plt.imshow(src2_rgb)"
   ]
  },
  {
   "cell_type": "code",
   "execution_count": null,
   "metadata": {},
   "outputs": [],
   "source": [
    "# 1. descriptor\n",
    "orb = \n",
    "brisk = \n",
    "detector = [orb, brisk]\n",
    "\n",
    "didx = 0\n",
    "kp1, des1 = \n",
    "kp2, des2 = \n",
    "\n",
    "# 2. matcher\n",
    "bf = \n",
    "flann = \n",
    "matcher = [bf, flann]\n",
    "\n",
    "midx = 0\n",
    "try:\n",
    "    matches = matcher[midx].match(des1,des2)\n",
    "except:\n",
    "    matches = matcher[midx].match(np.float32(des1),np.float32(des2))\n",
    "\n",
    "# result display\n",
    "matches = sorted(matches, key = lambda x:x.distance)\n",
    "print('len(matches)=',len(matches)) \n",
    "for i,m in enumerate(matches[:10]):\n",
    "    print('matches[{}]=(queryIdx:{}, trainIdx:{}, distance:{})'.format(i,m.queryIdx,m.trainIdx,m.distance))\n",
    "    \n",
    "img3 = cv2.drawMatches(img1, kp1, img2, kp2, matches, None, flags=2)\n",
    "plt.figure(figsize=(30,60))\n",
    "plt.imshow(img3)\n",
    "plt.show()"
   ]
  },
  {
   "cell_type": "code",
   "execution_count": null,
   "metadata": {},
   "outputs": [],
   "source": [
    "# draw only good matching\n",
    "minDist = matches[0].distance\n",
    "good_matches = list(filter(lambda m:m.distance<=2*minDist, matches))\n",
    "print('len(good_matches)=',len(good_matches))    \n",
    "if len(good_matches) < 5:\n",
    "    print('sorry,too small good matches')\n",
    "    exit()\n",
    "    \n",
    "img4 = cv2.drawMatches(img1, kp1, img2, kp2, good_matches, None, flags=2)\n",
    "plt.figure(figsize=(30,60))\n",
    "plt.imshow(img4)\n",
    "plt.show()"
   ]
  },
  {
   "cell_type": "code",
   "execution_count": null,
   "metadata": {},
   "outputs": [],
   "source": []
  }
 ],
 "metadata": {
  "kernelspec": {
   "display_name": "Python 3",
   "language": "python",
   "name": "python3"
  },
  "language_info": {
   "codemirror_mode": {
    "name": "ipython",
    "version": 3
   },
   "file_extension": ".py",
   "mimetype": "text/x-python",
   "name": "python",
   "nbconvert_exporter": "python",
   "pygments_lexer": "ipython3",
   "version": "3.8.8"
  }
 },
 "nbformat": 4,
 "nbformat_minor": 4
}
