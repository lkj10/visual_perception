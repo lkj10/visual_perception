{
 "cells": [
  {
   "cell_type": "code",
   "execution_count": null,
   "metadata": {},
   "outputs": [],
   "source": [
    "import cv2\n",
    "import numpy as np"
   ]
  },
  {
   "cell_type": "code",
   "execution_count": null,
   "metadata": {},
   "outputs": [],
   "source": [
    "src   = cv2.imread('./data/morphology.jpg', cv2.IMREAD_GRAYSCALE)\n",
    "kernel= #TODO: \n",
    "erode = #TODO: \n",
    "dilate = #TODO: \n",
    "erode2= #TODO: \n",
    "\n",
    "cv2.imshow('src',    src)\n",
    "cv2.imshow('erode',  erode)\n",
    "cv2.imshow('dilate', dilate)\n",
    "cv2.imshow('erode2', erode2)\n",
    "##cv2.imshow('dilate2',    dilate2)\n",
    "cv2.waitKey()\n",
    "cv2.destroyAllWindows()"
   ]
  },
  {
   "cell_type": "code",
   "execution_count": null,
   "metadata": {},
   "outputs": [],
   "source": [
    "src   = cv2.imread('./data/morphology.jpg', cv2.IMREAD_GRAYSCALE)\n",
    "kernel= #TODO: \n",
    "closing = #TODO: \n",
    "opening = #TODO: \n",
    "gradient = #TODO: \n",
    "\n",
    "tophat = #TODO: \n",
    "blackhat = #TODO: \n",
    "\n",
    "cv2.imshow('opening',  opening)\n",
    "cv2.imshow('closing',  closing)\n",
    "cv2.imshow('gradient', gradient)\n",
    "cv2.imshow('tophat',   tophat)\n",
    "cv2.imshow('blackhat', blackhat)\n",
    "cv2.waitKey()\n",
    "cv2.destroyAllWindows()"
   ]
  },
  {
   "cell_type": "code",
   "execution_count": null,
   "metadata": {},
   "outputs": [],
   "source": []
  }
 ],
 "metadata": {
  "kernelspec": {
   "display_name": "Python 3",
   "language": "python",
   "name": "python3"
  },
  "language_info": {
   "codemirror_mode": {
    "name": "ipython",
    "version": 3
   },
   "file_extension": ".py",
   "mimetype": "text/x-python",
   "name": "python",
   "nbconvert_exporter": "python",
   "pygments_lexer": "ipython3",
   "version": "3.7.6"
  }
 },
 "nbformat": 4,
 "nbformat_minor": 4
}
