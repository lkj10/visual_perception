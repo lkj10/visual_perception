{
 "cells": [
  {
   "cell_type": "markdown",
   "metadata": {},
   "source": [
    "### 1. preCornerDetector"
   ]
  },
  {
   "cell_type": "code",
   "execution_count": null,
   "metadata": {},
   "outputs": [],
   "source": [
    "import cv2\n",
    "import numpy as np\n",
    "\n",
    "def findLocalMaxima(src):\n",
    "    kernel= cv2.getStructuringElement(shape=cv2.MORPH_RECT, ksize=(11,11))\n",
    "    dilate = cv2.dilate(src, kernel)\n",
    "    localMax = (src == dilate)\n",
    "\n",
    "    erode = cv2.erode(src, kernel)\n",
    "    localMax2 = (src > erode)\n",
    "    localMax &= localMax2\n",
    "    points = np.argwhere(localMax == True)    \n",
    "    points[:,[0, 1]] = points[:,[1, 0]] # switch x, y \n",
    "    return points"
   ]
  },
  {
   "cell_type": "code",
   "execution_count": null,
   "metadata": {},
   "outputs": [],
   "source": [
    "src = cv2.imread('./data/CornerTest.jpg')\n",
    "gray = cv2.cvtColor(src, cv2.COLOR_BGR2GRAY)\n",
    "res = cv2.preCornerDetect(gray, ksize=3)\n",
    "ret, res2 = cv2.threshold(np.abs(res), 0.1, 0, cv2.THRESH_TOZERO)\n",
    "corners = findLocalMaxima(res2)\n",
    "print(len(corners))\n",
    "\n",
    "dst = src.copy()  \n",
    "for x, y in corners:    \n",
    "    cv2.circle(dst, (x, y), 5, (0,0,255), 2)\n",
    "    \n",
    "cv2.imshow('src',  src) \n",
    "cv2.imshow('dst',  dst) \n",
    "cv2.waitKey()\n",
    "cv2.destroyAllWindows()"
   ]
  },
  {
   "cell_type": "markdown",
   "metadata": {},
   "source": [
    "### 2. cornerMinEigenVal"
   ]
  },
  {
   "cell_type": "code",
   "execution_count": null,
   "metadata": {},
   "outputs": [],
   "source": [
    "src = cv2.imread('./data/CornerTest.jpg')\n",
    "gray = cv2.cvtColor(src, cv2.COLOR_BGR2GRAY)\n",
    "eigen = cv2.cornerMinEigenVal(gray, blockSize=5)\n",
    "print('eigen.shape=', eigen.shape)\n",
    "\n",
    "T = 0.2\n",
    "corners  = np.argwhere(eigen > T)\n",
    "corners[:,[0, 1]] = corners[:,[1, 0]] # switch x, y\n",
    "print('len(corners ) =', len(corners ))\n",
    "dst = src.copy()\n",
    "for x, y in corners :    \n",
    "    cv2.circle(dst, (x, y), 3, (0,0,255), 2)\n",
    "    \n",
    "cv2.imshow('dst',  dst)\n",
    "cv2.waitKey()\n",
    "cv2.destroyAllWindows()\n"
   ]
  },
  {
   "cell_type": "markdown",
   "metadata": {},
   "source": [
    "### 3. cornerHarris"
   ]
  },
  {
   "cell_type": "code",
   "execution_count": null,
   "metadata": {},
   "outputs": [],
   "source": [
    "src = cv2.imread('./data/CornerTest.jpg')\n",
    "gray = cv2.cvtColor(src, cv2.COLOR_BGR2GRAY)\n",
    "res = cv2.cornerHarris(gray, blockSize=5, ksize=3, k=0.01)\n",
    "ret, res = cv2.threshold(np.abs(res),0.02, 0, cv2.THRESH_TOZERO)\n",
    "corners = findLocalMaxima(res)\n",
    "print('corners=', corners)\n",
    "\n",
    "dst = src.copy()\n",
    "for x, y in corners:    \n",
    "    cv2.circle(dst, (x, y), 3, (0,0,255), 2)\n",
    "cv2.imshow('dst',  dst)\n",
    "cv2.waitKey()\n",
    "cv2.destroyAllWindows()\n"
   ]
  },
  {
   "cell_type": "markdown",
   "metadata": {},
   "source": [
    "### 4. FAST"
   ]
  },
  {
   "cell_type": "code",
   "execution_count": null,
   "metadata": {},
   "outputs": [],
   "source": [
    "src = cv2.imread('./data/CornerTest.jpg')\n",
    "gray = cv2.cvtColor(src, cv2.COLOR_BGR2GRAY)\n",
    "\n",
    "fast = cv2.FastFeatureDetector_create(30)\n",
    "fast.setNonmaxSuppression(0)\n",
    "kp = fast.detect(src, None)\n",
    "dst = src.copy()\n",
    "cv2.drawKeypoints(src, kp, dst, (0, 0, 255))\n",
    "\n",
    "cv2.imshow('dst',  dst)\n",
    "cv2.waitKey()\n",
    "cv2.destroyAllWindows()\n"
   ]
  },
  {
   "cell_type": "markdown",
   "metadata": {},
   "source": [
    "### 5. ChessboardCorners"
   ]
  },
  {
   "cell_type": "code",
   "execution_count": null,
   "metadata": {},
   "outputs": [],
   "source": [
    "src = cv2.imread('./data/ChessBoard.jpg')\n",
    "gray = cv2.cvtColor(src, cv2.COLOR_BGR2GRAY)\n",
    "patternSize = (6, 3)\n",
    "found, corners = cv2.findChessboardCorners(src, patternSize)\n",
    "print('corners.shape=', corners.shape)\n",
    "\n",
    "dst = src.copy()\n",
    "cv2.drawChessboardCorners(dst, patternSize, corners, found)\n",
    "\n",
    "cv2.imshow('dst',  dst) \n",
    "cv2.waitKey()\n",
    "cv2.destroyAllWindows()\n"
   ]
  },
  {
   "cell_type": "markdown",
   "metadata": {},
   "source": [
    "### 6. CirclesGrid"
   ]
  },
  {
   "cell_type": "code",
   "execution_count": null,
   "metadata": {},
   "outputs": [],
   "source": [
    "src = cv2.imread('./data/circleGrid.jpg')\n",
    "gray = cv2.cvtColor(src, cv2.COLOR_BGR2GRAY)\n",
    "patternSize = (6, 4)\n",
    "found, centers = cv2.findCirclesGrid(src, patternSize)\n",
    "print('centers.shape=', centers.shape)\n",
    "\n",
    "dst = src.copy()\n",
    "cv2.drawChessboardCorners(dst, patternSize, centers, found)\n",
    "\n",
    "cv2.imshow('dst',  dst) \n",
    "cv2.waitKey()\n",
    "cv2.destroyAllWindows()\n"
   ]
  },
  {
   "cell_type": "code",
   "execution_count": null,
   "metadata": {},
   "outputs": [],
   "source": []
  }
 ],
 "metadata": {
  "kernelspec": {
   "display_name": "Python 3",
   "language": "python",
   "name": "python3"
  },
  "language_info": {
   "codemirror_mode": {
    "name": "ipython",
    "version": 3
   },
   "file_extension": ".py",
   "mimetype": "text/x-python",
   "name": "python",
   "nbconvert_exporter": "python",
   "pygments_lexer": "ipython3",
   "version": "3.8.8"
  }
 },
 "nbformat": 4,
 "nbformat_minor": 4
}
