{
 "cells": [
  {
   "cell_type": "code",
   "execution_count": null,
   "metadata": {},
   "outputs": [],
   "source": [
    "import cv2\n",
    "import numpy as np\n",
    "import matplotlib.pyplot as plt"
   ]
  },
  {
   "cell_type": "code",
   "execution_count": null,
   "metadata": {},
   "outputs": [],
   "source": [
    "#1\n",
    "def drawFlow(img, flow, thresh=2, stride=8):\n",
    "    h, w = img.shape[:2]\n",
    "    mag, ang = cv2.cartToPolar(flow[...,0], flow[...,1])\n",
    "    flow2 = np.int32(flow)\n",
    "    for y in range(0,h,stride):\n",
    "        for x in range(0,w,stride):\n",
    "            dx, dy = flow2[y,x]\n",
    "            if mag[y,x] > thresh:\n",
    "                cv2.circle(img, (x, y), 2, (0,255,0), -1)\n",
    "                cv2.line(img, (x, y), (x+dx, y+dy),(255, 0, 0), 1)"
   ]
  },
  {
   "cell_type": "code",
   "execution_count": null,
   "metadata": {},
   "outputs": [],
   "source": [
    "#2          \n",
    "cap = cv2.VideoCapture('./data/vtest.avi')\n",
    "if (not cap.isOpened()): \n",
    "     print('Error opening video')\n",
    "    \n",
    "height, width = (int(cap.get(cv2.CAP_PROP_FRAME_HEIGHT)), int(cap.get(cv2.CAP_PROP_FRAME_WIDTH)))\n",
    "hsv = np.zeros((height, width, 3), dtype=np.uint8)\n",
    "\n",
    "ret, frame = cap.read()\n",
    "imgP = cv2.cvtColor(frame, cv2.COLOR_BGR2GRAY)\n",
    "\n",
    "TH = 2\n",
    "AREA_TH = 50\n",
    "mode = cv2.RETR_EXTERNAL\n",
    "method = cv2.CHAIN_APPROX_SIMPLE\n",
    "params = dict(pyr_scale=0.5, levels=3, winsize=15, iterations=3, poly_n=5, poly_sigma=1.2, flags=0)"
   ]
  },
  {
   "cell_type": "code",
   "execution_count": null,
   "metadata": {},
   "outputs": [],
   "source": [
    "#3 \n",
    "t = 0\n",
    "while True:\n",
    "    ret, frame = cap.read()\n",
    "    if not ret: break\n",
    "    t+=1\n",
    "    print('t=',t)\n",
    "    imgC = cv2.cvtColor(frame, cv2.COLOR_BGR2GRAY)\n",
    "    imgC = cv2.GaussianBlur(imgC, (5, 5), 0.5)\n",
    "    \n",
    "#3-1\n",
    "    flow = cv2.calcOpticalFlowFarneback(imgP,imgC,None, **params)\n",
    "    drawFlow(frame, flow, TH)\n",
    "\n",
    "#3-2     \n",
    "    mag, ang = cv2.cartToPolar(flow[...,0], flow[...,1])      \n",
    "    ret, bImage = cv2.threshold(mag,TH,255,cv2.THRESH_BINARY)\n",
    "    bImage = bImage.astype(np.uint8)\n",
    "    contours, hierarchy = cv2.findContours(bImage, mode, method)\n",
    "    for i, cnt in enumerate(contours):\n",
    "        area = cv2.contourArea(cnt)\n",
    "        if area > AREA_TH:\n",
    "            x, y, width, height = cv2.boundingRect(cnt)\n",
    "            cv2.rectangle(frame, (x, y), (x+width, y+height), (0,0,255), 2)\n",
    "            \n",
    "#3-3\n",
    "    cv2.imshow('frame',frame)\n",
    "    imgP = imgC.copy()\n",
    "    key = cv2.waitKey(25)\n",
    "    if key == 27:\n",
    "        break\n",
    "        \n",
    "if cap.isOpened():\n",
    "    cap.release();\n",
    "cv2.destroyAllWindows()"
   ]
  },
  {
   "cell_type": "code",
   "execution_count": null,
   "metadata": {},
   "outputs": [],
   "source": []
  }
 ],
 "metadata": {
  "kernelspec": {
   "display_name": "Python 3",
   "language": "python",
   "name": "python3"
  },
  "language_info": {
   "codemirror_mode": {
    "name": "ipython",
    "version": 3
   },
   "file_extension": ".py",
   "mimetype": "text/x-python",
   "name": "python",
   "nbconvert_exporter": "python",
   "pygments_lexer": "ipython3",
   "version": "3.8.5"
  }
 },
 "nbformat": 4,
 "nbformat_minor": 4
}
