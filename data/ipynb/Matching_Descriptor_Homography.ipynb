{
 "cells": [
  {
   "cell_type": "code",
   "execution_count": null,
   "metadata": {},
   "outputs": [],
   "source": [
    "import cv2\n",
    "import numpy as np\n",
    "%matplotlib inline\n",
    "import matplotlib.pyplot as plt"
   ]
  },
  {
   "cell_type": "code",
   "execution_count": null,
   "metadata": {},
   "outputs": [],
   "source": [
    "#filename1 = './data/book1.jpg'\n",
    "#filename2 = './data/book2.jpg'\n",
    "filename1 = './data/cup1.jpg'\n",
    "filename2 = './data/cup2.jpg'\n",
    "\n",
    "src1_bgr = cv2.imread(filename1)\n",
    "src2_bgr = cv2.imread(filename2)\n",
    "img1= cv2.cvtColor(src1_bgr,cv2.COLOR_BGR2GRAY)\n",
    "img2= cv2.cvtColor(src2_bgr,cv2.COLOR_BGR2GRAY)\n",
    "src1_rgb = cv2.cvtColor(src1_bgr,cv2.COLOR_BGR2RGB)\n",
    "src2_rgb = cv2.cvtColor(src2_bgr,cv2.COLOR_BGR2RGB)\n",
    "\n",
    "plt.figure(figsize=(10,30))\n",
    "imgae=plt.subplot(1,2,1)\n",
    "imgae.set_title('img1')\n",
    "plt.axis('off')\n",
    "plt.imshow(src1_rgb)\n",
    "imgae=plt.subplot(1,2,2)\n",
    "imgae.set_title('img2')\n",
    "plt.axis('off')\n",
    "plt.imshow(src2_rgb)"
   ]
  },
  {
   "cell_type": "code",
   "execution_count": null,
   "metadata": {},
   "outputs": [],
   "source": [
    "# descriptor\n",
    "orb = cv2.ORB_create(nfeatures=1000)\n",
    "brisk = cv2.BRISK_create()\n",
    "detector = [orb, brisk]\n",
    "\n",
    "didx = 1\n",
    "kp1, des1 = \n",
    "kp2, des2 = \n",
    "\n",
    "# matcher\n",
    "bf = \n",
    "flann = \n",
    "matcher = [bf, flann]\n",
    "\n",
    "midx = 0\n",
    "try:\n",
    "    matches = matcher[midx].match(des1,des2)\n",
    "except:\n",
    "    matches = matcher[midx].match(np.float32(des1),np.float32(des2))\n",
    "\n",
    "# result display\n",
    "matches = sorted(matches, key = lambda x:x.distance)\n",
    "print('len(matches)=',len(matches)) \n",
    "for i,m in enumerate(matches[:10]):\n",
    "    print('matches[{}]=(queryIdx:{}, trainIdx:{}, distance:{})'.format(i,m.queryIdx,m.trainIdx,m.distance))\n",
    "    \n",
    "img3 = cv2.drawMatches(img1, kp1, img2, kp2, matches, None, flags=2)\n",
    "plt.figure(figsize=(30,60))\n",
    "plt.imshow(img3)\n",
    "plt.show()"
   ]
  },
  {
   "cell_type": "code",
   "execution_count": null,
   "metadata": {},
   "outputs": [],
   "source": [
    "MIN_MATCH_COUNT = 10\n",
    "\n",
    "# draw only good matching\n",
    "minDist = matches[0].distance\n",
    "good_matches = list(filter(lambda m:m.distance<=2*minDist, matches))\n",
    "print('len(good_matches)=',len(good_matches))    \n",
    "if len(good_matches) < MIN_MATCH_COUNT:\n",
    "    print('sorry,too small good matches')\n",
    "    exit()\n",
    "    \n",
    "img4 = cv2.drawMatches(img1, kp1, img2, kp2, good_matches, None, flags=2)\n",
    "plt.figure(figsize=(30,60))\n",
    "plt.imshow(img4)\n",
    "plt.show()"
   ]
  },
  {
   "cell_type": "code",
   "execution_count": null,
   "metadata": {},
   "outputs": [],
   "source": [
    "src1_pts = np.float32([kp1[m.queryIdx].pt for m in good_matches])\n",
    "src2_pts = np.float32([kp2[m.trainIdx].pt for m in good_matches])\n",
    "\n",
    "H,mask = \n",
    "mask_matches = mask.flatten().tolist()\n",
    "\n",
    "h,w = img1.shape\n",
    "pts = np.float32([[0,0],[0,h-1],[w-1,h-1],[w-1,0]]).reshape(-1,1,2) # (4, 1, 2)\n",
    "pts2 = \n",
    "src2_rgb = cv2.polylines(src2_rgb,[np.int32(pts2)], True,(255,0,0), 2)\n",
    "\n",
    "draw_params = dict(matchColor=(0,255,0), singlePointColor=None, matchesMask = mask_matches, flags=2)\n",
    "img5 = cv2.drawMatches(src1_rgb, kp1, src2_rgb, kp2, good_matches, None, **draw_params)\n",
    "plt.figure(figsize=(30,60))\n",
    "plt.imshow(img5)\n",
    "plt.show()"
   ]
  },
  {
   "cell_type": "code",
   "execution_count": null,
   "metadata": {},
   "outputs": [],
   "source": []
  }
 ],
 "metadata": {
  "kernelspec": {
   "display_name": "Python 3",
   "language": "python",
   "name": "python3"
  },
  "language_info": {
   "codemirror_mode": {
    "name": "ipython",
    "version": 3
   },
   "file_extension": ".py",
   "mimetype": "text/x-python",
   "name": "python",
   "nbconvert_exporter": "python",
   "pygments_lexer": "ipython3",
   "version": "3.8.3"
  }
 },
 "nbformat": 4,
 "nbformat_minor": 4
}
