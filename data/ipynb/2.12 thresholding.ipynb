{
 "cells": [
  {
   "cell_type": "code",
   "execution_count": 2,
   "metadata": {},
   "outputs": [],
   "source": [
    "import cv2\n",
    "import numpy as np"
   ]
  },
  {
   "cell_type": "code",
   "execution_count": 3,
   "metadata": {},
   "outputs": [
    {
     "name": "stdout",
     "output_type": "stream",
     "text": [
      "ret= 120.0\n"
     ]
    }
   ],
   "source": [
    "src = cv2.imread('./data/heart10.jpg', cv2.IMREAD_GRAYSCALE)\n",
    "ret, dst = cv2.threshold(src, 120, 255, cv2.THRESH_BINARY)\n",
    "print('ret=', ret)\n",
    "\n",
    "cv2.imshow('src',  src)\n",
    "cv2.imshow('dst',  dst)\n",
    "cv2.waitKey()    \n",
    "cv2.destroyAllWindows()"
   ]
  },
  {
   "cell_type": "code",
   "execution_count": 5,
   "metadata": {},
   "outputs": [
    {
     "name": "stdout",
     "output_type": "stream",
     "text": [
      "threshold= 175.0\n"
     ]
    }
   ],
   "source": [
    "ret, dst = cv2.threshold(src, 120, 255, cv2.THRESH_BINARY)\n",
    "ret2, dst2 = cv2.threshold(src, 200, 255, cv2.THRESH_BINARY+cv2.THRESH_OTSU)\n",
    "print('threshold=', ret2)\n",
    "cv2.imshow('dst',  dst)\n",
    "cv2.imshow('dst2',  dst2)\n",
    "cv2.waitKey()    \n",
    "cv2.destroyAllWindows()"
   ]
  },
  {
   "cell_type": "code",
   "execution_count": null,
   "metadata": {},
   "outputs": [
    {
     "name": "stdout",
     "output_type": "stream",
     "text": [
      "threshold= 149.0\n"
     ]
    }
   ],
   "source": [
    "src2 = cv2.imread('./data/srcThreshold.png', cv2.IMREAD_GRAYSCALE)\n",
    "ret, dst3 = cv2.threshold(src2, 128, 255, cv2.THRESH_BINARY)\n",
    "ret4, dst4 = cv2.threshold(src2, 0, 255, cv2.THRESH_BINARY+cv2.THRESH_OTSU)\n",
    "print('threshold=', ret4)\n",
    "\n",
    "dst5 = cv2.adaptiveThreshold(src2, 255, cv2.ADAPTIVE_THRESH_MEAN_C, cv2.THRESH_BINARY, 51, 7)\n",
    "dst6 = cv2.adaptiveThreshold(src2, 255, cv2.ADAPTIVE_THRESH_GAUSSIAN_C, cv2.THRESH_BINARY, 51, 7)\n",
    "\n",
    "cv2.imshow('src2',  src2)\n",
    "cv2.imshow('dst3',  dst3)\n",
    "cv2.imshow('dst4',  dst4)\n",
    "cv2.imshow('dst5',  dst5)\n",
    "cv2.imshow('dst6',  dst6)\n",
    "cv2.waitKey()    \n",
    "cv2.destroyAllWindows()"
   ]
  },
  {
   "cell_type": "code",
   "execution_count": null,
   "metadata": {},
   "outputs": [],
   "source": []
  }
 ],
 "metadata": {
  "kernelspec": {
   "display_name": "Python 3",
   "language": "python",
   "name": "python3"
  },
  "language_info": {
   "codemirror_mode": {
    "name": "ipython",
    "version": 3
   },
   "file_extension": ".py",
   "mimetype": "text/x-python",
   "name": "python",
   "nbconvert_exporter": "python",
   "pygments_lexer": "ipython3",
   "version": "3.8.3"
  }
 },
 "nbformat": 4,
 "nbformat_minor": 4
}
