{
 "cells": [
  {
   "cell_type": "code",
   "execution_count": null,
   "metadata": {},
   "outputs": [],
   "source": [
    "import cv2\n",
    "import numpy as np"
   ]
  },
  {
   "cell_type": "code",
   "execution_count": null,
   "metadata": {},
   "outputs": [],
   "source": [
    "src = cv2.imread('./data/circles.jpg')\n",
    "gray = cv2.cvtColor(src,cv2.COLOR_BGR2GRAY)\n",
    "ret, res = #TODO:\n",
    "cv2.imshow('src',  src)\n",
    "cv2.imshow('res',  res)\n",
    "cv2.waitKey()\n",
    "cv2.destroyAllWindows()"
   ]
  },
  {
   "cell_type": "code",
   "execution_count": null,
   "metadata": {},
   "outputs": [],
   "source": [
    "ret, labels = #TODO: \n",
    "print('ret=', ret)"
   ]
  },
  {
   "cell_type": "code",
   "execution_count": null,
   "metadata": {},
   "outputs": [],
   "source": [
    "dst = np.zeros(src.shape, dtype=src.dtype)\n",
    "for i in range(1, ret): # 분할영역 표시\n",
    "    r = #TODO: \n",
    "    g = #TODO: \n",
    "    b = #TODO: \n",
    "    dst[labels == i] = [b, g, r]\n",
    "    \n",
    "cv2.imshow('src',  src)\n",
    "cv2.imshow('res',  res)\n",
    "cv2.imshow('dst',  dst) \n",
    "cv2.waitKey()\n",
    "cv2.destroyAllWindows()"
   ]
  },
  {
   "cell_type": "code",
   "execution_count": null,
   "metadata": {
    "scrolled": true
   },
   "outputs": [],
   "source": [
    "ret, labels, stats, centroids = #TODO: \n",
    "print('ret =', ret)\n",
    "print('stats =', stats)\n",
    "print('centroids =', centroids)"
   ]
  },
  {
   "cell_type": "code",
   "execution_count": null,
   "metadata": {},
   "outputs": [],
   "source": [
    "dst  = np.zeros(src.shape, dtype=src.dtype)\n",
    "for i in range(1, int(ret)): # 분할영역 표시\n",
    "    r = #TODO: \n",
    "    g = #TODO: \n",
    "    b = #TODO: \n",
    "    dst[labels == i] = [b, g, r]"
   ]
  },
  {
   "cell_type": "code",
   "execution_count": null,
   "metadata": {},
   "outputs": [],
   "source": [
    "for i in range(1, int(ret)):\n",
    "    x, y, width, height, area = stats[i]\n",
    "    cv2.rectangle(dst, (x,y), (x+width, y+height), (0, 0, 255), 2)\n",
    "    cx, cy = centroids[i]\n",
    "    cv2.circle(dst, (int(cx), int(cy)), 5, (255,0,0), -1)\n",
    "       \n",
    "cv2.imshow('src',  src)\n",
    "cv2.imshow('dst',  dst) \n",
    "cv2.waitKey()\n",
    "cv2.destroyAllWindows()"
   ]
  },
  {
   "cell_type": "code",
   "execution_count": null,
   "metadata": {},
   "outputs": [],
   "source": []
  }
 ],
 "metadata": {
  "kernelspec": {
   "display_name": "Python 3",
   "language": "python",
   "name": "python3"
  },
  "language_info": {
   "codemirror_mode": {
    "name": "ipython",
    "version": 3
   },
   "file_extension": ".py",
   "mimetype": "text/x-python",
   "name": "python",
   "nbconvert_exporter": "python",
   "pygments_lexer": "ipython3",
   "version": "3.7.6"
  }
 },
 "nbformat": 4,
 "nbformat_minor": 4
}
