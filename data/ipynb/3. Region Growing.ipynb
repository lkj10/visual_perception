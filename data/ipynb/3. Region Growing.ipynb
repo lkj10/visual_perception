{
 "cells": [
  {
   "cell_type": "code",
   "execution_count": null,
   "metadata": {},
   "outputs": [],
   "source": [
    "import cv2\n",
    "import numpy as np\n",
    "import matplotlib.pyplot as plt"
   ]
  },
  {
   "cell_type": "code",
   "execution_count": null,
   "metadata": {},
   "outputs": [],
   "source": [
    "src = cv2.imread('./data/bridge.jpg')\n",
    "srcrgb = cv2.cvtColor(src, cv2.COLOR_BGR2RGB)\n",
    "mask = np.zeros((src.shape[0]+2, src.shape[1]+2), np.uint8)\n",
    "\n",
    "seed = (180, 80)\n",
    "newVal = 255\n",
    "loDiff, upDiff = (5, 5 ,5), (5, 5, 5)\n",
    "\n",
    "#floodflags = 4\n",
    "#floodflags |= cv2.FLOODFILL_MASK_ONLY\n",
    "#floodflags |= (255 << 8)\n",
    "#cv2.floodFill(src, mask, seedPoint=seed, newVal=newVal, loDiff=loDiff, upDiff=upDiff, flags=floodflags)\n",
    "cv2.floodFill(src, mask, seedPoint=seed, newVal=newVal, loDiff=loDiff, \n",
    "              upDiff=upDiff)\n",
    "cv2.circle(srcrgb, seed, 3, (255, 0, 0), cv2.FILLED, cv2.LINE_AA);\n",
    "\n",
    "plt.figure(figsize=(30, 30))\n",
    "imgae1=plt.subplot(1, 2, 1)\n",
    "imgae1.set_title('Original')\n",
    "plt.axis('off')\n",
    "plt.imshow(srcrgb)\n",
    "\n",
    "imgae1=plt.subplot(1, 2, 2)\n",
    "imgae1.set_title('Mask')\n",
    "plt.axis('off')\n",
    "plt.imshow(mask, cmap='gray')"
   ]
  },
  {
   "cell_type": "code",
   "execution_count": null,
   "metadata": {},
   "outputs": [],
   "source": [
    "src2 = cv2.imread('./data/duck.png')\n",
    "mask = np.zeros((src2.shape[0]+2, src2.shape[1]+2), np.uint8)\n",
    "\n",
    "def onMouse(event, x, y, flags, param):\n",
    "    if event == cv2.EVENT_LBUTTONDOWN:\n",
    "        seed = (x,y)\n",
    "        r = np.random.randint(256)\n",
    "        g = np.random.randint(256)\n",
    "        b = np.random.randint(256)\n",
    "        newVal = (b, g, r)\n",
    "        retval = cv2.floodFill(src2, mask, seed, newVal=newVal, loDiff=loDiff, upDiff=upDiff)\n",
    "        cv2.imshow('src2', src2)\n",
    "        \n",
    "cv2.imshow('src2', src2)\n",
    "cv2.setMouseCallback('src2', onMouse)\n",
    "cv2.waitKey(0)\n",
    "cv2.destroyAllWindows()"
   ]
  },
  {
   "cell_type": "code",
   "execution_count": null,
   "metadata": {},
   "outputs": [],
   "source": []
  }
 ],
 "metadata": {
  "kernelspec": {
   "display_name": "Python 3",
   "language": "python",
   "name": "python3"
  },
  "language_info": {
   "codemirror_mode": {
    "name": "ipython",
    "version": 3
   },
   "file_extension": ".py",
   "mimetype": "text/x-python",
   "name": "python",
   "nbconvert_exporter": "python",
   "pygments_lexer": "ipython3",
   "version": "3.8.5"
  }
 },
 "nbformat": 4,
 "nbformat_minor": 4
}
