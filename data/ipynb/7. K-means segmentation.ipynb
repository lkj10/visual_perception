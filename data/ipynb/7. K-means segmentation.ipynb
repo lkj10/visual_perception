{
 "cells": [
  {
   "cell_type": "code",
   "execution_count": null,
   "metadata": {},
   "outputs": [],
   "source": [
    "import cv2\n",
    "import numpy as np\n",
    "import matplotlib.pyplot as plt"
   ]
  },
  {
   "cell_type": "code",
   "execution_count": null,
   "metadata": {},
   "outputs": [],
   "source": [
    "#1\n",
    "##src = cv2.imread('./data/hand_paper.jpg')\n",
    "src = cv2.imread('./data/flower.jpg')\n",
    "data = src.reshape((-1,3)).astype(np.float32)\n",
    "hsv = cv2.cvtColor(src, cv2.COLOR_BGR2HSV)"
   ]
  },
  {
   "cell_type": "code",
   "execution_count": null,
   "metadata": {},
   "outputs": [],
   "source": [
    "#2\n",
    "K = 5\n",
    "term_crit=(cv2.TERM_CRITERIA_EPS+cv2.TERM_CRITERIA_MAX_ITER, 10, 1.0)\n",
    "ret, labels, centers = cv2.kmeans(data, K, None, term_crit, 5, cv2.KMEANS_RANDOM_CENTERS)\n",
    "print('centers.shape=', centers.shape)\n",
    "print('labels.shape=', labels.shape)\n",
    "print('ret=', ret)"
   ]
  },
  {
   "cell_type": "code",
   "execution_count": null,
   "metadata": {},
   "outputs": [],
   "source": [
    "#3\n",
    "centers = np.uint8(centers)\n",
    "res   = centers[labels.flatten()]\n",
    "dst  = res.reshape(src.shape)\n",
    "dstrgb = cv2.cvtColor(dst, cv2.COLOR_BGR2RGB)\n",
    "\n",
    "plt.figure(figsize=(5, 5))\n",
    "plt.axis('off')\n",
    "plt.imshow(dstrgb)"
   ]
  },
  {
   "cell_type": "code",
   "execution_count": null,
   "metadata": {},
   "outputs": [],
   "source": []
  }
 ],
 "metadata": {
  "kernelspec": {
   "display_name": "Python 3",
   "language": "python",
   "name": "python3"
  },
  "language_info": {
   "codemirror_mode": {
    "name": "ipython",
    "version": 3
   },
   "file_extension": ".py",
   "mimetype": "text/x-python",
   "name": "python",
   "nbconvert_exporter": "python",
   "pygments_lexer": "ipython3",
   "version": "3.8.5"
  }
 },
 "nbformat": 4,
 "nbformat_minor": 4
}
