{
 "cells": [
  {
   "cell_type": "code",
   "execution_count": 1,
   "metadata": {},
   "outputs": [],
   "source": [
    "import numpy as np\n",
    "import cv2"
   ]
  },
  {
   "cell_type": "code",
   "execution_count": 2,
   "metadata": {},
   "outputs": [],
   "source": [
    "def onChange(pos): # 트랙바 핸들러\n",
    "    global imagegray, idx\n",
    "    thresh = cv2.getTrackbarPos('threshold','img')\n",
    "    ret, dst = cv2.threshold(imagegray[idx], thresh, 255, cv2.THRESH_BINARY)\n",
    "    #print('ret=', ret)\n",
    "    cv2.imshow('mask',  dst)"
   ]
  },
  {
   "cell_type": "code",
   "execution_count": 3,
   "metadata": {},
   "outputs": [],
   "source": [
    "cnt = 3\n",
    "imageFile = []\n",
    "imageFile.append('./data/dental0.png')\n",
    "imageFile.append('./data/dental1.png')\n",
    "imageFile.append('./data/dental2.png')\n",
    "\n",
    "idx = 0\n",
    "imagegray = []\n",
    "for i in range(0, cnt):\n",
    "    imagegray.append(cv2.imread(imageFile[i], cv2.IMREAD_GRAYSCALE)) "
   ]
  },
  {
   "cell_type": "code",
   "execution_count": 4,
   "metadata": {},
   "outputs": [],
   "source": [
    "#mask = np.zeros((512, 512, 3), np.uint8) # black\n",
    "img = cv2.imread('./data/dental1.png', cv2.IMREAD_GRAYSCALE)\n",
    "cv2.imshow('img',img)\n",
    "\n",
    "# 트랙바 생성\n",
    "init_thresh = 128\n",
    "cv2.createTrackbar('threshold', 'img', 0, 255, onChange)\n",
    "cv2.setTrackbarPos('threshold', 'img', init_thresh)\n",
    "\n",
    "ret, mask = cv2.threshold(img, init_thresh, 255, cv2.THRESH_BINARY)\n",
    "cv2.imshow('mask',mask)\n",
    "\n",
    "\n",
    "while True:   \n",
    "    key = cv2.waitKeyEx(30)  \n",
    "    if key == 27:  #ESC\n",
    "        break  \n",
    "                \n",
    "    # 영상 변경\n",
    "    elif key == 0x250000: # left\n",
    "        idx -= 1\n",
    "        if idx < 0:\n",
    "            idx = cnt-1 \n",
    "        \n",
    "    # 영상 변경\n",
    "    elif key == 0x270000: # right\n",
    "        idx += 1\n",
    "        idx %= cnt\n",
    "        \n",
    "    cv2.imshow('img', imagegray[idx])    \n",
    "    thresh = cv2.getTrackbarPos('threshold','img')\n",
    "    ret, dst = cv2.threshold(imagegray[idx], thresh, 255, cv2.THRESH_BINARY)    \n",
    "    cv2.imshow('mask',  dst)\n",
    "\n",
    "cv2.destroyAllWindows()"
   ]
  },
  {
   "cell_type": "code",
   "execution_count": null,
   "metadata": {},
   "outputs": [],
   "source": []
  }
 ],
 "metadata": {
  "kernelspec": {
   "display_name": "Python 3",
   "language": "python",
   "name": "python3"
  },
  "language_info": {
   "codemirror_mode": {
    "name": "ipython",
    "version": 3
   },
   "file_extension": ".py",
   "mimetype": "text/x-python",
   "name": "python",
   "nbconvert_exporter": "python",
   "pygments_lexer": "ipython3",
   "version": "3.8.5"
  }
 },
 "nbformat": 4,
 "nbformat_minor": 4
}
