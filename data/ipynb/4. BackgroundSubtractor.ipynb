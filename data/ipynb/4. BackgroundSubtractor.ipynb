{
 "cells": [
  {
   "cell_type": "code",
   "execution_count": null,
   "metadata": {},
   "outputs": [],
   "source": [
    "import cv2\n",
    "import numpy as np\n",
    "import matplotlib.pyplot as plt"
   ]
  },
  {
   "cell_type": "code",
   "execution_count": null,
   "metadata": {},
   "outputs": [],
   "source": [
    "cap = cv2.VideoCapture('./data/vtest.avi')\n",
    "if (not cap.isOpened()): \n",
    "     print('Error opening video')\n",
    "    \n",
    "height, width = (int(cap.get(cv2.CAP_PROP_FRAME_HEIGHT)), int(cap.get(cv2.CAP_PROP_FRAME_WIDTH)))\n",
    "\n",
    "#1\n",
    "bgMog1 = cv2.createBackgroundSubtractorMOG2()\n",
    "bgMog2 = cv2.createBackgroundSubtractorMOG2(varThreshold=25, detectShadows=False)\n",
    "bgKnn1 = cv2.createBackgroundSubtractorKNN()\n",
    "bgKnn2 = cv2.createBackgroundSubtractorKNN(dist2Threshold=1000, detectShadows=False)"
   ]
  },
  {
   "cell_type": "code",
   "execution_count": null,
   "metadata": {},
   "outputs": [],
   "source": [
    "#2\n",
    "AREA_TH = 80   # area threshold\n",
    "def findObjectAndDraw(bImage, src):\n",
    "    res = src.copy()\n",
    "    bImage = cv2.erode(bImage,None, 5)\n",
    "    bImage = cv2.dilate(bImage,None,5)    \n",
    "    bImage = cv2.erode(bImage,None, 7)    \n",
    "    contours, _ = cv2.findContours(bImage, cv2.RETR_EXTERNAL, cv2.CHAIN_APPROX_SIMPLE)\n",
    "    cv2.drawContours(src, contours, -1, (255,0,0), 1)\n",
    "    for i, cnt in enumerate(contours):\n",
    "        area = cv2.contourArea(cnt)\n",
    "        if area > AREA_TH:\n",
    "            x, y, width, height = cv2.boundingRect(cnt)\n",
    "            cv2.rectangle(res, (x, y), (x+width, y+height), (0,0,255), 2)\n",
    "    return res"
   ]
  },
  {
   "cell_type": "code",
   "execution_count": null,
   "metadata": {},
   "outputs": [],
   "source": [
    "#3\n",
    "t = 0\n",
    "while True:\n",
    "    ret, frame = cap.read()\n",
    "    if not ret:\n",
    "        break\n",
    "    t+=1\n",
    "    print('t =', t)\n",
    "    gray = cv2.cvtColor(frame, cv2.COLOR_BGR2GRAY)\n",
    "    blur = cv2.GaussianBlur(frame,(5,5),0.0)\n",
    "#2-1\n",
    "    bImage1 = bgMog1.apply(blur)\n",
    "    bImage2 = bgMog2.apply(blur)\n",
    "    bImage3 = bgKnn1.apply(blur)\n",
    "    bImage4 = bgKnn2.apply(blur)\n",
    "    dst1 = findObjectAndDraw(bImage1, frame)\n",
    "    dst2 = findObjectAndDraw(bImage2, frame)\n",
    "    dst3 = findObjectAndDraw(bImage3, frame)\n",
    "    dst4 = findObjectAndDraw(bImage4, frame)\n",
    "\n",
    "    cv2.imshow('bImage1',bImage1)\n",
    "    cv2.imshow('bgMog1',dst1)\n",
    "    cv2.imshow('bImage2',bImage2)\n",
    "    cv2.imshow('bgMog2',dst2)\n",
    "    cv2.imshow('bImage3',bImage3)\n",
    "    cv2.imshow('bgKnn1',dst3)\n",
    "    cv2.imshow('bImage4',bImage4)\n",
    "    cv2.imshow('bgKnn2',dst4)\n",
    "    key = cv2.waitKey(25) #0\n",
    "    if key == 27:\n",
    "        break\n",
    "        \n",
    "if cap.isOpened():\n",
    "    cap.release()\n",
    "cv2.destroyAllWindows()"
   ]
  },
  {
   "cell_type": "code",
   "execution_count": null,
   "metadata": {},
   "outputs": [],
   "source": []
  }
 ],
 "metadata": {
  "kernelspec": {
   "display_name": "Python 3",
   "language": "python",
   "name": "python3"
  },
  "language_info": {
   "codemirror_mode": {
    "name": "ipython",
    "version": 3
   },
   "file_extension": ".py",
   "mimetype": "text/x-python",
   "name": "python",
   "nbconvert_exporter": "python",
   "pygments_lexer": "ipython3",
   "version": "3.8.5"
  }
 },
 "nbformat": 4,
 "nbformat_minor": 4
}
