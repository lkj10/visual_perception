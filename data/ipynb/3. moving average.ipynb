{
 "cells": [
  {
   "cell_type": "code",
   "execution_count": null,
   "metadata": {},
   "outputs": [],
   "source": [
    "import cv2\n",
    "import numpy as np\n",
    "import matplotlib.pyplot as plt"
   ]
  },
  {
   "cell_type": "code",
   "execution_count": null,
   "metadata": {},
   "outputs": [],
   "source": [
    "#1\n",
    "cap = cv2.VideoCapture('./data/vtest.avi')\n",
    "if (not cap.isOpened()): \n",
    "     print('Error opening video')\n",
    "        \n",
    "height, width = (int(cap.get(cv2.CAP_PROP_FRAME_HEIGHT)),\n",
    "                 int(cap.get(cv2.CAP_PROP_FRAME_WIDTH)))\n",
    "\n",
    "TH      = 40  # binary threshold\n",
    "AREA_TH = 80 # area   threshold \n",
    "acc_bgr = np.zeros(shape=(height, width, 3), dtype=np.float32)\n",
    "\n",
    "mode = cv2.RETR_EXTERNAL\n",
    "method = cv2.CHAIN_APPROX_SIMPLE"
   ]
  },
  {
   "cell_type": "code",
   "execution_count": null,
   "metadata": {},
   "outputs": [],
   "source": [
    "#2\n",
    "t = 0\n",
    "while True:\n",
    "    ret, frame = cap.read()\n",
    "    if not ret:\n",
    "        break\n",
    "    t+=1\n",
    "    print(\"t = \", t)\n",
    "    blur = cv2.GaussianBlur(frame,(5,5),0.0)\n",
    "    \n",
    "#2-1\n",
    "    if t < 50:\n",
    "        cv2.accumulate(blur, acc_bgr)\n",
    "        continue\n",
    "    elif t == 50:\n",
    "        bkg_bgr = acc_bgr/t\n",
    "#2-2: t >= 50\n",
    "    diff_bgr = np.uint8(cv2.absdiff(np.float32(blur), bkg_bgr))\n",
    "    db,dg,dr = cv2.split(diff_bgr)\n",
    "    ret, bb = cv2.threshold(db,TH,255,cv2.THRESH_BINARY)\n",
    "    ret, bg = cv2.threshold(dg,TH,255,cv2.THRESH_BINARY)\n",
    "    ret, br = cv2.threshold(dr,TH,255,cv2.THRESH_BINARY)\n",
    "    bImage = cv2.bitwise_or(bb, bg)\n",
    "    bImage = cv2.bitwise_or(br, bImage)\n",
    "    bImage = cv2.erode(bImage,None, 5)\n",
    "    bImage = cv2.dilate(bImage,None,5)    \n",
    "    bImage = cv2.erode(bImage,None, 7)\n",
    "    cv2.imshow('bImage',bImage)\n",
    "    \n",
    "    msk = bImage.copy()\n",
    "    contours, hierarchy = cv2.findContours(bImage, mode, method)\n",
    "    cv2.drawContours(frame, contours, -1, (255,0,0), 1)   \n",
    "    for i, cnt in enumerate(contours):\n",
    "        area = cv2.contourArea(cnt)\n",
    "        if area > AREA_TH:\n",
    "            x, y, width, height = cv2.boundingRect(cnt)\n",
    "            cv2.rectangle(frame, (x, y), (x+width, y+height), (0,0,255), 2)\n",
    "            cv2.rectangle(msk, (x, y), (x+width, y+height), 255, -1) \n",
    "            \n",
    "#2-3\n",
    "    msk = cv2.bitwise_not(msk)\n",
    "    cv2.accumulateWeighted(blur,bkg_bgr, alpha=0.1,mask=msk)\n",
    "\n",
    "    cv2.imshow('frame',frame)\n",
    "    cv2.imshow('bkg_bgr',np.uint8(bkg_bgr))    \n",
    "    cv2.imshow('diff_bgr',diff_bgr)\n",
    "    key = cv2.waitKey(25)\n",
    "    if key == 27:\n",
    "        break\n",
    "        \n",
    "#3\n",
    "if cap.isOpened():\n",
    "    cap.release()\n",
    "cv2.destroyAllWindows()"
   ]
  },
  {
   "cell_type": "code",
   "execution_count": null,
   "metadata": {},
   "outputs": [],
   "source": []
  },
  {
   "cell_type": "code",
   "execution_count": null,
   "metadata": {},
   "outputs": [],
   "source": []
  }
 ],
 "metadata": {
  "kernelspec": {
   "display_name": "Python 3",
   "language": "python",
   "name": "python3"
  },
  "language_info": {
   "codemirror_mode": {
    "name": "ipython",
    "version": 3
   },
   "file_extension": ".py",
   "mimetype": "text/x-python",
   "name": "python",
   "nbconvert_exporter": "python",
   "pygments_lexer": "ipython3",
   "version": "3.8.5"
  }
 },
 "nbformat": 4,
 "nbformat_minor": 4
}
