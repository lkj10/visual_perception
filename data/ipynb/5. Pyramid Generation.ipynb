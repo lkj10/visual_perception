{
 "cells": [
  {
   "cell_type": "code",
   "execution_count": null,
   "metadata": {},
   "outputs": [],
   "source": [
    "import cv2\n",
    "import numpy as np"
   ]
  },
  {
   "cell_type": "code",
   "execution_count": null,
   "metadata": {},
   "outputs": [],
   "source": [
    "#1\n",
    "src1 = cv2.imread('./data/lena1.jpg')\n",
    "down2 = cv2.pyrDown(src1)\n",
    "down4 = cv2.pyrDown(down2)\n",
    "print('src1.shape=', src1.shape)\n",
    "print('down2.shape=', down2.shape)\n",
    "print('down2.shape=', down2.shape)\n",
    "\n",
    "cv2.imshow('down2',down2)\n",
    "cv2.waitKey()\n",
    "cv2.destroyAllWindows()\n",
    "\n",
    "cv2.imshow('down4',down4)\n",
    "cv2.waitKey()\n",
    "cv2.destroyAllWindows()"
   ]
  },
  {
   "cell_type": "code",
   "execution_count": null,
   "metadata": {},
   "outputs": [],
   "source": [
    "#2\n",
    "src2 = cv2.imread('./data/lena2.jpg')\n",
    "up2 = cv2.pyrUp(src2)\n",
    "up4 = cv2.pyrUp(up2)\n",
    "print('src2.shape=', src2.shape)\n",
    "print('up2.shape=', up2.shape)\n",
    "print('up4.shape=', up4.shape)\n",
    "\n",
    "cv2.imshow('src2',src2)\n",
    "cv2.waitKey()\n",
    "cv2.destroyAllWindows()\n",
    "\n",
    "cv2.imshow('up2',up2)\n",
    "cv2.waitKey()\n",
    "cv2.destroyAllWindows()\n",
    "\n",
    "cv2.imshow('up4',up4)\n",
    "cv2.waitKey()\n",
    "cv2.destroyAllWindows()"
   ]
  },
  {
   "cell_type": "code",
   "execution_count": null,
   "metadata": {},
   "outputs": [],
   "source": []
  }
 ],
 "metadata": {
  "kernelspec": {
   "display_name": "Python 3",
   "language": "python",
   "name": "python3"
  },
  "language_info": {
   "codemirror_mode": {
    "name": "ipython",
    "version": 3
   },
   "file_extension": ".py",
   "mimetype": "text/x-python",
   "name": "python",
   "nbconvert_exporter": "python",
   "pygments_lexer": "ipython3",
   "version": "3.8.5"
  }
 },
 "nbformat": 4,
 "nbformat_minor": 4
}
