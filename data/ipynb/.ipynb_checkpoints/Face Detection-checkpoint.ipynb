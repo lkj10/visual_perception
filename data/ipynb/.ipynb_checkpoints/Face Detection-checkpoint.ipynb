{
 "cells": [
  {
   "cell_type": "code",
   "execution_count": null,
   "metadata": {},
   "outputs": [],
   "source": [
    "import cv2\n",
    "import numpy as np\n",
    "import matplotlib.pyplot as plt"
   ]
  },
  {
   "cell_type": "code",
   "execution_count": null,
   "metadata": {},
   "outputs": [],
   "source": [
    "imagePath = './data/faces2.jpg'\n",
    "cascPath = './xml/haarcascade_frontalface_default.xml'\n",
    " \n",
    "# Create the haar cascade\n",
    "faceCascade =\n",
    " \n",
    "# Read the image\n",
    "image = cv2.imread(imagePath)\n",
    "imageRGB = cv2.cvtColor(image, cv2.COLOR_BGR2RGB)\n",
    "gray = cv2.cvtColor(image, cv2.COLOR_BGR2GRAY)\n",
    "\n",
    "# Detect faces in the image\n",
    "faces = \n",
    "\n",
    "# 검출된 얼굴 주변에 사각형 그리기\n",
    "for (x, y, w, h) in faces:\n",
    "    cv2.rectangle(imageRGB, (x, y), (x+w, y+h), (0, 255, 0), 2)\n",
    "    \n",
    "# 얼굴을 검출한 이미지를 화면에 띄웁니다\n",
    "plt.figure(figsize=(15, 15))\n",
    "plt.imshow(imageRGB)"
   ]
  },
  {
   "cell_type": "code",
   "execution_count": null,
   "metadata": {},
   "outputs": [],
   "source": [
    "def FaceDetection(image):\n",
    "    faceimage = image.copy()\n",
    "    \n",
    "    # Create the haar cascade\n",
    "    faceCascade = \n",
    "    \n",
    "    # Read the image\n",
    "    gray = cv2.cvtColor(image, cv2.COLOR_BGR2GRAY)\n",
    "    \n",
    "    # Detect faces in the image\n",
    "    faces = \n",
    "    \n",
    "    # 검출된 얼굴 주변에 사각형 그리기\n",
    "    for (x, y, w, h) in faces:\n",
    "        cv2.rectangle(faceimage, (x, y), (x+w, y+h), (0, 255, 0), 2)\n",
    "        \n",
    "    return faceimage"
   ]
  },
  {
   "cell_type": "code",
   "execution_count": null,
   "metadata": {},
   "outputs": [],
   "source": [
    "cap = cv2.VideoCapture('./data/siliconvalley.mp4')\n",
    "frame_size = (int(cap.get(cv2.CAP_PROP_FRAME_WIDTH)), int(cap.get(cv2.CAP_PROP_FRAME_HEIGHT)))\n",
    "print('frame_size =', frame_size)\n",
    "\n",
    "while True:   \n",
    "    retval, frame = cap.read() # 프레임 캡처\n",
    "    if not retval:\n",
    "        break\n",
    "        \n",
    "    face = \n",
    "    cv2.imshow('face',face)\n",
    "    \n",
    "    key = cv2.waitKey(25)\n",
    "    if key == 27: # Esc\n",
    "        break\n",
    "        \n",
    "if cap.isOpened():\n",
    "    cap.release()\n",
    "    \n",
    "cv2.destroyAllWindows()"
   ]
  },
  {
   "cell_type": "code",
   "execution_count": null,
   "metadata": {},
   "outputs": [],
   "source": []
  }
 ],
 "metadata": {
  "kernelspec": {
   "display_name": "Python 3",
   "language": "python",
   "name": "python3"
  },
  "language_info": {
   "codemirror_mode": {
    "name": "ipython",
    "version": 3
   },
   "file_extension": ".py",
   "mimetype": "text/x-python",
   "name": "python",
   "nbconvert_exporter": "python",
   "pygments_lexer": "ipython3",
   "version": "3.8.8"
  }
 },
 "nbformat": 4,
 "nbformat_minor": 4
}
