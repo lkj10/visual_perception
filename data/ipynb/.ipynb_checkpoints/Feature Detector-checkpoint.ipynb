{
 "cells": [
  {
   "cell_type": "markdown",
   "metadata": {},
   "source": [
    "### 1. FastFeatureDetector"
   ]
  },
  {
   "cell_type": "code",
   "execution_count": null,
   "metadata": {},
   "outputs": [],
   "source": [
    "import cv2\n",
    "import numpy as np\n",
    " \n",
    "src = cv2.imread('./data/chessBoard.jpg')\n",
    "gray= cv2.cvtColor(src,cv2.COLOR_BGR2GRAY)\n",
    "\n",
    "fastF = \n",
    "kp = \n",
    "dst = \n",
    "print('len(kp)=', len(kp))\n",
    "\n",
    "cv2.imshow('dst',  dst)\n",
    "cv2.waitKey()\n",
    "cv2.destroyAllWindows()"
   ]
  },
  {
   "cell_type": "markdown",
   "metadata": {},
   "source": [
    "### 2. MSER"
   ]
  },
  {
   "cell_type": "code",
   "execution_count": null,
   "metadata": {},
   "outputs": [],
   "source": [
    "import cv2\n",
    "import numpy as np\n",
    " \n",
    "src = cv2.imread('./data/chessBoard.jpg')\n",
    "gray= cv2.cvtColor(src,cv2.COLOR_BGR2GRAY)\n",
    "\n",
    "mserF =\n",
    "kp= \n",
    "dst = \n",
    "print('len(kp)=', len(kp))\n",
    "\n",
    "cv2.imshow('dst',  dst)\n",
    "cv2.waitKey()\n",
    "cv2.destroyAllWindows()"
   ]
  },
  {
   "cell_type": "markdown",
   "metadata": {},
   "source": [
    "### 3. SimpleBlobDetector"
   ]
  },
  {
   "cell_type": "code",
   "execution_count": null,
   "metadata": {},
   "outputs": [],
   "source": [
    "import cv2\n",
    "import numpy as np\n",
    " \n",
    "src = cv2.imread('./data/chessBoard.jpg')\n",
    "gray= cv2.cvtColor(src,cv2.COLOR_BGR2GRAY)\n",
    "\n",
    "blobF =\n",
    "kp=\n",
    "dst =\n",
    "print('len(kp)=', len(kp))\n",
    "\n",
    "cv2.imshow('dst',  dst)\n",
    "cv2.waitKey()\n",
    "cv2.destroyAllWindows()\n"
   ]
  },
  {
   "cell_type": "markdown",
   "metadata": {},
   "source": [
    "### 4. GFTTDetector"
   ]
  },
  {
   "cell_type": "code",
   "execution_count": null,
   "metadata": {},
   "outputs": [],
   "source": [
    "import cv2\n",
    "import numpy as np\n",
    " \n",
    "src = cv2.imread('./data/CornerTest.jpg')\n",
    "gray= cv2.cvtColor(src,cv2.COLOR_BGR2GRAY)\n",
    "\n",
    "goodF = \n",
    "kp= \n",
    "dst = \n",
    "print('len(kp)=', len(kp))\n",
    "\n",
    "cv2.imshow('dst',  dst)\n",
    "cv2.waitKey()\n",
    "cv2.destroyAllWindows()"
   ]
  },
  {
   "cell_type": "markdown",
   "metadata": {},
   "source": [
    "### 5. ORB "
   ]
  },
  {
   "cell_type": "code",
   "execution_count": null,
   "metadata": {},
   "outputs": [],
   "source": [
    "import cv2\n",
    "import numpy as np\n",
    "\n",
    "src = cv2.imread('./data/CornerTest.jpg')\n",
    "gray= cv2.cvtColor(src,cv2.COLOR_BGR2GRAY)\n",
    "gray = cv2.GaussianBlur(gray, (5, 5), 0.0)\n",
    "\n",
    "orbF = \n",
    "kp= \n",
    "dst = \n",
    "print('len(kp)=', len(kp))\n",
    "\n",
    "cv2.imshow('dst',  dst)\n",
    "cv2.waitKey()\n",
    "cv2.destroyAllWindows()"
   ]
  },
  {
   "cell_type": "markdown",
   "metadata": {},
   "source": [
    "### 6. BRISK"
   ]
  },
  {
   "cell_type": "code",
   "execution_count": null,
   "metadata": {},
   "outputs": [],
   "source": [
    "import cv2\n",
    "import numpy as np\n",
    "    \n",
    "src = cv2.imread('./data/CornerTest.jpg')\n",
    "gray= cv2.cvtColor(src,cv2.COLOR_BGR2GRAY)\n",
    "#gray = cv2.GaussianBlur(gray, (5, 5), 0.0)\n",
    "\n",
    "briskF = \n",
    "kp=\n",
    "dst = \n",
    "print('len(kp)=', len(kp))\n",
    "\n",
    "cv2.imshow('dst',  dst)\n",
    "cv2.waitKey()\n",
    "cv2.destroyAllWindows()"
   ]
  },
  {
   "cell_type": "markdown",
   "metadata": {},
   "source": [
    "### 7. KAZE"
   ]
  },
  {
   "cell_type": "code",
   "execution_count": null,
   "metadata": {},
   "outputs": [],
   "source": [
    "import cv2\n",
    "import numpy as np\n",
    "\n",
    "src = cv2.imread('./data/CornerTest.jpg')\n",
    "gray= cv2.cvtColor(src,cv2.COLOR_BGR2GRAY)\n",
    "\n",
    "kazeF = \n",
    "kp= \n",
    "dst = \n",
    "print('len(kp)=', len(kp))\n",
    "\n",
    "cv2.imshow('dst',  dst)\n",
    "cv2.waitKey()\n",
    "cv2.destroyAllWindows()"
   ]
  },
  {
   "cell_type": "code",
   "execution_count": null,
   "metadata": {},
   "outputs": [],
   "source": []
  }
 ],
 "metadata": {
  "kernelspec": {
   "display_name": "Python 3",
   "language": "python",
   "name": "python3"
  },
  "language_info": {
   "codemirror_mode": {
    "name": "ipython",
    "version": 3
   },
   "file_extension": ".py",
   "mimetype": "text/x-python",
   "name": "python",
   "nbconvert_exporter": "python",
   "pygments_lexer": "ipython3",
   "version": "3.8.8"
  }
 },
 "nbformat": 4,
 "nbformat_minor": 4
}
