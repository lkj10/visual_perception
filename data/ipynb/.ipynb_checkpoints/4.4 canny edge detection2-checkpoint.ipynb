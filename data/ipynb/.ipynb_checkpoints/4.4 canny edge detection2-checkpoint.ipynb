{
 "cells": [
  {
   "cell_type": "code",
   "execution_count": null,
   "metadata": {},
   "outputs": [],
   "source": [
    "import cv2\n",
    "import numpy as np\n",
    "import imutils"
   ]
  },
  {
   "cell_type": "code",
   "execution_count": null,
   "metadata": {},
   "outputs": [],
   "source": [
    "src = cv2.imread('./data/lena.jpg', cv2.IMREAD_GRAYSCALE)\n",
    "\n",
    "edges1 = #TODO: \n",
    "edges2 = #TODO: \n",
    "\n",
    "cv2.imshow('src',  src)\n",
    "cv2.imshow('edges1',  edges1)\n",
    "cv2.imshow('edges2',  edges2)\n",
    "cv2.waitKey()\n",
    "cv2.destroyAllWindows()"
   ]
  },
  {
   "cell_type": "code",
   "execution_count": null,
   "metadata": {},
   "outputs": [],
   "source": [
    "gray = cv2.imread('./data/coins.png', cv2.IMREAD_GRAYSCALE)\n",
    "blurred = #TODO: \n",
    "\n",
    "wide = #TODO: \n",
    "mid = #TODO: \n",
    "tight = #TODO: \n",
    "\n",
    "cv2.imshow(\"Original\", gray)\n",
    "cv2.imshow(\"Blurred\", blurred)\n",
    "cv2.imshow(\"Wide Edge Map\", wide)\n",
    "cv2.imshow(\"Mid Edge Map\", mid)\n",
    "cv2.imshow(\"Tight Edge Map\", tight)\n",
    "cv2.waitKey()\n",
    "cv2.destroyAllWindows()"
   ]
  },
  {
   "cell_type": "code",
   "execution_count": null,
   "metadata": {},
   "outputs": [],
   "source": [
    "gray = cv2.imread('./data/teacup.jpg', cv2.IMREAD_GRAYSCALE)\n",
    "blurred = #TODO: \n",
    "\n",
    "wide = #TODO: \n",
    "tight = #TODO: \n",
    "auto = #TODO: \n",
    "\n",
    "# show the images\n",
    "cv2.imshow(\"Original\", gray)\n",
    "cv2.imshow(\"Wide\", wide)\n",
    "cv2.imshow(\"Tight\", tight)\n",
    "cv2.imshow(\"Auto\", auto)\n",
    "cv2.waitKey()\n",
    "cv2.destroyAllWindows()"
   ]
  },
  {
   "cell_type": "code",
   "execution_count": null,
   "metadata": {},
   "outputs": [],
   "source": []
  }
 ],
 "metadata": {
  "kernelspec": {
   "display_name": "Python 3",
   "language": "python",
   "name": "python3"
  },
  "language_info": {
   "codemirror_mode": {
    "name": "ipython",
    "version": 3
   },
   "file_extension": ".py",
   "mimetype": "text/x-python",
   "name": "python",
   "nbconvert_exporter": "python",
   "pygments_lexer": "ipython3",
   "version": "3.8.8"
  }
 },
 "nbformat": 4,
 "nbformat_minor": 4
}
