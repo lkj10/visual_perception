{
 "cells": [
  {
   "cell_type": "code",
   "execution_count": null,
   "metadata": {},
   "outputs": [],
   "source": [
    "import cv2\n",
    "import numpy as np\n",
    "import imutils"
   ]
  },
  {
   "cell_type": "code",
   "execution_count": null,
   "metadata": {},
   "outputs": [],
   "source": [
    "src = cv2.imread('./data/rect.jpg')\n",
    "gray = cv2.cvtColor(src,cv2.COLOR_BGR2GRAY)\n",
    "edges = #TODO: \n",
    "lines = #TODO: \n",
    "print('lines.shape=', lines.shape)\n",
    "\n",
    "for line in lines:\n",
    "    x1, y1, x2, y2   = line[0]\n",
    "    cv2.line(src,(x1,y1),(x2,y2),(0,0,255),2)\n",
    "    \n",
    "cv2.imshow('edges',  edges)\n",
    "cv2.imshow('src',  src)\n",
    "cv2.waitKey()\n",
    "cv2.destroyAllWindows()"
   ]
  },
  {
   "cell_type": "code",
   "execution_count": null,
   "metadata": {},
   "outputs": [],
   "source": [
    "src1 = cv2.imread('./data/circles.jpg')\n",
    "gray1 = cv2.cvtColor(src1,cv2.COLOR_BGR2GRAY)\n",
    "circles1 = #TODO:            \n",
    "\n",
    "circles1 = np.uint16(np.around(circles1))\n",
    "print('circles1.shape=', circles1.shape)\n",
    "for circle in circles1[0,:]:    \n",
    "    cx, cy, r  = circle\n",
    "    cv2.circle(src1, (cx, cy), r, (0,0,255), 2)\n",
    "\n",
    "#2\n",
    "src2 = cv2.imread('./data/circles2.jpg')\n",
    "gray2 = cv2.cvtColor(src2,cv2.COLOR_BGR2GRAY)\n",
    "circles2 = #TODO:\n",
    "\n",
    "circles2 = np.uint16(np.around(circles2))\n",
    "print('circles2.shape=', circles2.shape)\n",
    "for circle in circles2[0,:]:    \n",
    "    cx, cy, r  = circle\n",
    "    cv2.circle(src2, (cx, cy), r, (0,0,255), 2) \n",
    "    \n",
    "cv2.imshow('src1',  src1)\n",
    "cv2.imshow('src2',  src2)\n",
    "cv2.waitKey()\n",
    "cv2.destroyAllWindows()"
   ]
  },
  {
   "cell_type": "code",
   "execution_count": null,
   "metadata": {},
   "outputs": [],
   "source": []
  }
 ],
 "metadata": {
  "kernelspec": {
   "display_name": "Python 3",
   "language": "python",
   "name": "python3"
  },
  "language_info": {
   "codemirror_mode": {
    "name": "ipython",
    "version": 3
   },
   "file_extension": ".py",
   "mimetype": "text/x-python",
   "name": "python",
   "nbconvert_exporter": "python",
   "pygments_lexer": "ipython3",
   "version": "3.8.8"
  }
 },
 "nbformat": 4,
 "nbformat_minor": 4
}
