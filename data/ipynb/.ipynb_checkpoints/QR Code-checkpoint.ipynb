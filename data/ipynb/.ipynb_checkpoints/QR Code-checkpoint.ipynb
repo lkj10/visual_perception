{
 "cells": [
  {
   "cell_type": "code",
   "execution_count": null,
   "metadata": {},
   "outputs": [],
   "source": [
    "import cv2\n",
    "import numpy as np\n",
    "import matplotlib.pyplot as plt\n",
    "import webbrowser"
   ]
  },
  {
   "cell_type": "code",
   "execution_count": null,
   "metadata": {},
   "outputs": [],
   "source": [
    "inputImage = cv2.imread(\"./data/QRCode.png\")\n",
    "qrDecoder = \n",
    " \n",
    "# QR코드를 찾고 디코드해줍니다\n",
    "data, bbox, _ = \n",
    "\n",
    "if len(data) > 0:\n",
    "    print(\"Decoded Data : {}\".format(data))\n",
    "    decodedText, points, _ = \n",
    " \n",
    "    if points is not None:\n",
    "        nrOfPoints = len(points)\n",
    "        \n",
    "        for i in range(nrOfPoints):\n",
    "            nextPointIndex = (i+1) % nrOfPoints\n",
    "            #p1 = points[i][0].astype(np.int32)\n",
    "            #p2 = points[nextPointIndex][0].astype(np.int32)\n",
    "            #cv2.line(inputImage, tuple(p1), tuple(p2), (0,0,255), 3) \n",
    "            cv2.line(inputImage, tuple(points[i][0]), tuple(points[nextPointIndex][0]), (0,0,255),3)\n",
    "    \n",
    "    # display\n",
    "    cv2.imshow('QR Code', inputImage)\n",
    "    cv2.waitKey()\n",
    "    cv2.destroyAllWindows()\n",
    "    \n",
    "    # web browser\n",
    "    webbrowser.open(data)\n",
    "    \n",
    "else:\n",
    "    print(\"QR Code not detected\")"
   ]
  },
  {
   "cell_type": "code",
   "execution_count": null,
   "metadata": {},
   "outputs": [],
   "source": []
  }
 ],
 "metadata": {
  "kernelspec": {
   "display_name": "Python 3",
   "language": "python",
   "name": "python3"
  },
  "language_info": {
   "codemirror_mode": {
    "name": "ipython",
    "version": 3
   },
   "file_extension": ".py",
   "mimetype": "text/x-python",
   "name": "python",
   "nbconvert_exporter": "python",
   "pygments_lexer": "ipython3",
   "version": "3.8.8"
  }
 },
 "nbformat": 4,
 "nbformat_minor": 4
}
