{
 "cells": [
  {
   "cell_type": "code",
   "execution_count": null,
   "metadata": {},
   "outputs": [],
   "source": [
    "import cv2\n",
    "import numpy as np\n",
    "import matplotlib.pyplot as plt"
   ]
  },
  {
   "cell_type": "code",
   "execution_count": null,
   "metadata": {},
   "outputs": [],
   "source": [
    "imagePath = './data/russianplate.jpg'\n",
    "cascPath = './xml/haarcascade_russian_plate_number.xml'\n",
    " \n",
    "# Create the haar cascade\n",
    "rpcascade = \n",
    " \n",
    "# Read the image\n",
    "image = cv2.imread(imagePath)\n",
    "imageRGB = cv2.cvtColor(image, cv2.COLOR_BGR2RGB)\n",
    "gray = cv2.cvtColor(image, cv2.COLOR_BGR2GRAY)\n",
    "\n",
    "# Detect faces in the image\n",
    "plate = \n",
    "\n",
    "# Draw bounding box\n",
    "for (x, y, w, h) in plate:\n",
    "    cv2.rectangle(imageRGB, (x, y), (x+w, y+h), (255, 0, 0), 2)\n",
    "    \n",
    "# display\n",
    "plt.figure(figsize=(15, 15))\n",
    "plt.imshow(imageRGB)"
   ]
  },
  {
   "cell_type": "code",
   "execution_count": null,
   "metadata": {},
   "outputs": [],
   "source": []
  }
 ],
 "metadata": {
  "kernelspec": {
   "display_name": "Python 3",
   "language": "python",
   "name": "python3"
  },
  "language_info": {
   "codemirror_mode": {
    "name": "ipython",
    "version": 3
   },
   "file_extension": ".py",
   "mimetype": "text/x-python",
   "name": "python",
   "nbconvert_exporter": "python",
   "pygments_lexer": "ipython3",
   "version": "3.8.8"
  }
 },
 "nbformat": 4,
 "nbformat_minor": 4
}
