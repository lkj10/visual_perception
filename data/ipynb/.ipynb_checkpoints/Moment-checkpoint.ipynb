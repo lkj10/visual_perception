{
 "cells": [
  {
   "cell_type": "markdown",
   "metadata": {},
   "source": [
    "### Moment, Hu Invarient Moment"
   ]
  },
  {
   "cell_type": "code",
   "execution_count": null,
   "metadata": {},
   "outputs": [],
   "source": [
    "import cv2\n",
    "import numpy as np\n",
    "import imutils\n",
    "\n",
    "src = cv2.imread('./data/momentTest.jpg')\n",
    "gray = cv2.cvtColor(src, cv2.COLOR_BGR2GRAY)\n",
    "ret, bImage = cv2.threshold(gray, 128, 255, cv2.THRESH_BINARY)\n",
    "\n",
    "mode = cv2.RETR_EXTERNAL\n",
    "method = cv2.CHAIN_APPROX_SIMPLE\n",
    "contours, _ = cv2.findContours(bImage, mode, method)\n",
    "\n",
    "dst = src.copy()\n",
    "cnt = contours[0]\n",
    "cv2.drawContours(dst, [cnt], 0, (255,0,0), 3)\n",
    "cv2.imshow('cnt',  dst)\n",
    "cv2.waitKey()\n",
    "cv2.destroyAllWindows()\n",
    "\n",
    "M = cv2.moments(cnt)\n",
    "hu = cv2.HuMoments(M)\n",
    "print('hu.shape=', hu.shape)\n",
    "print('hu=', hu)\n",
    "\n",
    "angle = 45.0\n",
    "scale = 0.2\n",
    "cx = M['m10']/M['m00']\n",
    "cy = M['m01']/M['m00']\n",
    "center = (cx, cy)\n",
    "t = (20, 30)\n",
    "\n",
    "A = cv2.getRotationMatrix2D( center, angle, scale )\n",
    "A[:, 2] += t   # translation\n",
    "cnt2 = cv2.transform(cnt, A)\n",
    "cv2.drawContours(dst, [cnt2], 0, (0,255,0), 3)\n",
    "cv2.imshow('dst',  dst)\n",
    "cv2.waitKey()\n",
    "cv2.destroyAllWindows()\n",
    "\n",
    "M2 = cv2.moments(cnt2)\n",
    "hu2 = cv2.HuMoments(M2)\n",
    "print('hu2.shape=', hu2.shape)\n",
    "\n",
    "diffSum = np.sum(cv2.absdiff(hu, hu2))\n",
    "print('diffSum=', diffSum)\n"
   ]
  },
  {
   "cell_type": "code",
   "execution_count": null,
   "metadata": {},
   "outputs": [],
   "source": []
  }
 ],
 "metadata": {
  "kernelspec": {
   "display_name": "Python 3",
   "language": "python",
   "name": "python3"
  },
  "language_info": {
   "codemirror_mode": {
    "name": "ipython",
    "version": 3
   },
   "file_extension": ".py",
   "mimetype": "text/x-python",
   "name": "python",
   "nbconvert_exporter": "python",
   "pygments_lexer": "ipython3",
   "version": "3.8.8"
  }
 },
 "nbformat": 4,
 "nbformat_minor": 4
}
