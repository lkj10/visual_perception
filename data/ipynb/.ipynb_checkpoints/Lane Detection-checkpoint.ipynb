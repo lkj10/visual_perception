{
 "cells": [
  {
   "cell_type": "code",
   "execution_count": null,
   "metadata": {},
   "outputs": [],
   "source": [
    "import cv2\n",
    "import numpy as np\n",
    "import matplotlib.pyplot as plt"
   ]
  },
  {
   "cell_type": "code",
   "execution_count": null,
   "metadata": {},
   "outputs": [],
   "source": [
    "src = cv2.imread('./data/lane.jpg')\n",
    "cv2.imshow('src',  src)\n",
    "cv2.waitKey()\n",
    "cv2.destroyAllWindows()\n",
    "\n",
    "cap = cv2.VideoCapture('./data/lane.mp4')\n",
    "frame_size = (int(cap.get(cv2.CAP_PROP_FRAME_WIDTH)), int(cap.get(cv2.CAP_PROP_FRAME_HEIGHT)))\n",
    "print('frame_size =', frame_size)\n",
    "\n",
    "while True:   \n",
    "    retval, frame = cap.read() # 프레임 캡처\n",
    "    if not retval:\n",
    "        break\n",
    "\n",
    "    cv2.imshow('frame',frame)\n",
    "    \n",
    "    key = cv2.waitKey(25)\n",
    "    if key == 27: # Esc\n",
    "        break\n",
    "        \n",
    "if cap.isOpened():\n",
    "    cap.release()\n",
    "    \n",
    "cv2.destroyAllWindows()"
   ]
  },
  {
   "cell_type": "code",
   "execution_count": null,
   "metadata": {},
   "outputs": [],
   "source": [
    "lane_image = src.copy()\n",
    "gray = cv2.cvtColor(lane_image, cv2.COLOR_BGR2GRAY)\n",
    "blur = cv2.GaussianBlur(gray,(5,5),0)\n",
    "canny = \n",
    "\n",
    "plt.figure(figsize=(10, 10))\n",
    "plt.imshow(canny, cmap='gray')"
   ]
  },
  {
   "cell_type": "code",
   "execution_count": null,
   "metadata": {},
   "outputs": [],
   "source": [
    "height = canny.shape[0]\n",
    "triangle = np.array([[(200,height), (1100,height), (550,250)]])\n",
    "mask = np.zeros_like(canny)\n",
    "cv2.fillPoly(mask, triangle, 255)\n",
    "masked_image = cv2.bitwise_and(canny, mask)\n",
    "\n",
    "plt.figure(figsize=(10, 10))\n",
    "plt.imshow(masked_image, cmap='gray')"
   ]
  },
  {
   "cell_type": "code",
   "execution_count": null,
   "metadata": {},
   "outputs": [],
   "source": [
    "lines = \n",
    "\n",
    "for line in lines:\n",
    "    x1, y1, x2, y2 = line[0]\n",
    "    cv2.line(lane_image, (x1,y1),(x2,y2),(0,0,255), 2)\n",
    "    \n",
    "plt.figure(figsize=(10, 10))\n",
    "plt.imshow(lane_image)"
   ]
  },
  {
   "cell_type": "code",
   "execution_count": null,
   "metadata": {},
   "outputs": [],
   "source": [
    "def LaneDetection(src, roi):\n",
    "    # canny edge detection\n",
    "    img = src.copy()\n",
    "    gray = cv2.cvtColor(img, cv2.COLOR_BGR2GRAY)\n",
    "    blur = cv2.GaussianBlur(gray,(5,5),0)\n",
    "    canny = \n",
    "    \n",
    "    # set ROI\n",
    "    height = canny.shape[0]\n",
    "    mask = np.zeros_like(canny)\n",
    "    cv2.fillPoly(mask, roi, 255)\n",
    "    masked_image = cv2.bitwise_and(canny, mask)\n",
    "\n",
    "    # line detection\n",
    "    lines = \n",
    "\n",
    "    # draw lane\n",
    "    for line in lines:\n",
    "        x1, y1, x2, y2 = line[0]\n",
    "        cv2.line(img, (x1,y1),(x2,y2),(0,0,255), 2)\n",
    "    \n",
    "    return img"
   ]
  },
  {
   "cell_type": "code",
   "execution_count": null,
   "metadata": {},
   "outputs": [],
   "source": [
    "triangle = np.array([[(200,height), (1100,height), (550,250)]])\n",
    "image = src.copy()\n",
    "line_image = \n",
    "imageRGB = cv2.cvtColor(line_image, cv2.COLOR_BGR2RGB)\n",
    "plt.figure(figsize=(10, 10))\n",
    "plt.imshow(imageRGB)"
   ]
  },
  {
   "cell_type": "code",
   "execution_count": null,
   "metadata": {
    "scrolled": false
   },
   "outputs": [],
   "source": [
    "cap = cv2.VideoCapture('./data/lane.mp4')\n",
    "frame_size = (int(cap.get(cv2.CAP_PROP_FRAME_WIDTH)), int(cap.get(cv2.CAP_PROP_FRAME_HEIGHT)))\n",
    "print('frame_size =', frame_size)\n",
    "\n",
    "while True:   \n",
    "    retval, frame = cap.read() # 프레임 캡처\n",
    "    if not retval:\n",
    "        break\n",
    "        \n",
    "    # lane detection\n",
    "    lane = frame.copy()\n",
    "    line_image = \n",
    "    \n",
    "    cv2.imshow('frame',frame)\n",
    "    cv2.imshow('lane',line_image)\n",
    "    \n",
    "    key = cv2.waitKey(25)\n",
    "    if key == 27: # Esc\n",
    "        break\n",
    "        \n",
    "if cap.isOpened():\n",
    "    cap.release()\n",
    "    \n",
    "cv2.destroyAllWindows()"
   ]
  },
  {
   "cell_type": "code",
   "execution_count": null,
   "metadata": {},
   "outputs": [],
   "source": []
  }
 ],
 "metadata": {
  "kernelspec": {
   "display_name": "Python 3",
   "language": "python",
   "name": "python3"
  },
  "language_info": {
   "codemirror_mode": {
    "name": "ipython",
    "version": 3
   },
   "file_extension": ".py",
   "mimetype": "text/x-python",
   "name": "python",
   "nbconvert_exporter": "python",
   "pygments_lexer": "ipython3",
   "version": "3.8.8"
  }
 },
 "nbformat": 4,
 "nbformat_minor": 4
}
