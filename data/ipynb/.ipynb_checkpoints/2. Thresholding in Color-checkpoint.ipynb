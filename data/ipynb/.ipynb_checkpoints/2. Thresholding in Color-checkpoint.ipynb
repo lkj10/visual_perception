{
 "cells": [
  {
   "cell_type": "code",
   "execution_count": null,
   "metadata": {},
   "outputs": [],
   "source": [
    "import cv2\n",
    "import numpy as np\n",
    "import matplotlib.pyplot as plt"
   ]
  },
  {
   "cell_type": "code",
   "execution_count": null,
   "metadata": {},
   "outputs": [],
   "source": [
    "src = cv2.imread('./data/hand.png')\n",
    "hsv = cv2.cvtColor(src,cv2.COLOR_BGR2HSV)\n",
    "lower = np.array([0, 10, 80], dtype = \"uint8\")\n",
    "upper = np.array([30, 255, 255], dtype = \"uint8\")\n",
    "dst = cv2.inRange(hsv,lower,upper)\n",
    "\n",
    "src = cv2.cvtColor(src,cv2.COLOR_BGR2RGB)\n",
    "plt.figure(figsize=(20, 20))\n",
    "imgae1=plt.subplot(1,2,1)\n",
    "imgae1.set_title('Original')\n",
    "plt.axis('off')\n",
    "plt.imshow(src)\n",
    "\n",
    "imgae2=plt.subplot(1,2,2)\n",
    "imgae2.set_title('Detect Hand')\n",
    "plt.axis('off')\n",
    "plt.imshow(dst, cmap=\"gray\")"
   ]
  },
  {
   "cell_type": "code",
   "execution_count": null,
   "metadata": {},
   "outputs": [],
   "source": [
    "kernel= cv2.getStructuringElement(shape=cv2.MORPH_RECT, ksize=(7, 7))\n",
    "#erode = cv2.erode(src,kernel,iterations = 3)\n",
    "#dilate = cv2.dilate(src,kernel,iterations = 3)\n",
    "mor_close = cv2.morphologyEx(dst, cv2.MORPH_CLOSE, kernel,iterations = 5)\n",
    "\n",
    "plt.figure(figsize=(30, 30))\n",
    "imgae1=plt.subplot(1, 3, 1)\n",
    "imgae1.set_title('Original')\n",
    "plt.axis('off')\n",
    "plt.imshow(src)\n",
    "\n",
    "imgae2=plt.subplot(1, 3, 2)\n",
    "imgae2.set_title('Detect Hand')\n",
    "plt.axis('off')\n",
    "plt.imshow(dst, cmap=\"gray\")\n",
    "\n",
    "imgae2=plt.subplot(1, 3, 3)\n",
    "imgae2.set_title('Final Detect Hand')\n",
    "plt.axis('off')\n",
    "plt.imshow(mor_close, cmap=\"gray\")"
   ]
  },
  {
   "cell_type": "code",
   "execution_count": null,
   "metadata": {},
   "outputs": [],
   "source": [
    "def onChange(pos): # 트랙바 핸들러\n",
    "    global img, mask, hsv\n",
    "    l = cv2.getTrackbarPos('V-lower', 'img')\n",
    "    u = cv2.getTrackbarPos('V-upper', 'img')   \n",
    "    lower = np.array([0, 0, l], dtype = \"uint8\")\n",
    "    upper = np.array([255, 255, u], dtype = \"uint8\")\n",
    "    mask = cv2.inRange(hsv,lower,upper)    \n",
    "    cv2.imshow('mask',mask)"
   ]
  },
  {
   "cell_type": "code",
   "execution_count": null,
   "metadata": {},
   "outputs": [],
   "source": [
    "img = cv2.imread('./data/candies.png')\n",
    "hsv = cv2.cvtColor(img, cv2.COLOR_BGR2HSV)\n",
    "mask = np.zeros_like(img, dtype=np.uint8) # black\n",
    "cv2.imshow('img',img)\n",
    "cv2.imshow('mask',mask)\n",
    "\n",
    "# 트랙바 생성\n",
    "cv2.createTrackbar('V-lower', 'img', 0, 255, onChange)\n",
    "cv2.createTrackbar('V-upper', 'img', 0, 255, onChange)\n",
    "\n",
    "# 트랙바 위치 초기화\n",
    "cv2.setTrackbarPos('V-lower', 'img', 0)\n",
    "cv2.setTrackbarPos('V-upper', 'img', 0)\n",
    "\n",
    "cv2.waitKey()\n",
    "cv2.destroyAllWindows()"
   ]
  },
  {
   "cell_type": "code",
   "execution_count": null,
   "metadata": {},
   "outputs": [],
   "source": []
  }
 ],
 "metadata": {
  "kernelspec": {
   "display_name": "Python 3",
   "language": "python",
   "name": "python3"
  },
  "language_info": {
   "codemirror_mode": {
    "name": "ipython",
    "version": 3
   },
   "file_extension": ".py",
   "mimetype": "text/x-python",
   "name": "python",
   "nbconvert_exporter": "python",
   "pygments_lexer": "ipython3",
   "version": "3.8.8"
  }
 },
 "nbformat": 4,
 "nbformat_minor": 4
}
