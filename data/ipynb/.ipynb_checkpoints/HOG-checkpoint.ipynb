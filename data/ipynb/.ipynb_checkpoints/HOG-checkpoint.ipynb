{
 "cells": [
  {
   "cell_type": "code",
   "execution_count": null,
   "metadata": {},
   "outputs": [],
   "source": [
    "import cv2\n",
    "from matplotlib import pyplot as plt"
   ]
  },
  {
   "cell_type": "code",
   "execution_count": null,
   "metadata": {},
   "outputs": [],
   "source": [
    "src = cv2.imread('./data/man.png')\n",
    "#src = cv2.imread('./data/woman.png')"
   ]
  },
  {
   "cell_type": "code",
   "execution_count": null,
   "metadata": {},
   "outputs": [],
   "source": [
    "#1: HoG in color image\n",
    "hog1 = \n",
    "des1 = \n",
    "print('des1.shape=', des1.shape)\n",
    "print('des1=', des1)"
   ]
  },
  {
   "cell_type": "code",
   "execution_count": null,
   "metadata": {},
   "outputs": [],
   "source": [
    "#2: HoG in color image\n",
    "winSize     = (64,128)\n",
    "blockSize   = (16,16)\n",
    "blockStride = (8,8)\n",
    "cellSize    = (8,8)\n",
    "nbins       = 9\n",
    "derivAperture = 1\n",
    "winSigma = -1  # 4.0\n",
    "histogramNormType = 0\n",
    "L2HysThreshold = 0.2\n",
    "gammaCorrection = True\n",
    "nlevels = 64\n",
    "signedGradient = False \n",
    "hog2 = cv2.HOGDescriptor(winSize,blockSize,blockStride,cellSize,nbins,\n",
    "                         derivAperture,winSigma,\n",
    "                         histogramNormType,L2HysThreshold,\n",
    "                         gammaCorrection,nlevels, signedGradient)\n",
    "des2 = hog2.compute(src)\n",
    "print('des2.shape=', des2.shape)\n",
    "print('des2=', des2)"
   ]
  },
  {
   "cell_type": "code",
   "execution_count": null,
   "metadata": {},
   "outputs": [],
   "source": [
    "#3 HoG in grayscale image\n",
    "gray  = cv2.cvtColor(src, cv2.COLOR_BGR2GRAY)\n",
    "des3 = \n",
    "##des3 =\n",
    "print('des3.shape=', des3.shape)\n",
    "print('des3=', des3)"
   ]
  },
  {
   "cell_type": "code",
   "execution_count": null,
   "metadata": {},
   "outputs": [],
   "source": [
    "#4 display graph\n",
    "plt.title('HOGDescriptor')\n",
    "plt.plot(des1[::36], color='b',linewidth=4,label='des1')\n",
    "plt.plot(des2[::36], color='r',linewidth=2,label='des2')\n",
    "plt.plot(des3[::36], color='g',linewidth=1,label='des3')\n",
    "plt.legend(loc='best')\n",
    "plt.show()"
   ]
  },
  {
   "cell_type": "code",
   "execution_count": null,
   "metadata": {},
   "outputs": [],
   "source": []
  }
 ],
 "metadata": {
  "kernelspec": {
   "display_name": "Python 3",
   "language": "python",
   "name": "python3"
  },
  "language_info": {
   "codemirror_mode": {
    "name": "ipython",
    "version": 3
   },
   "file_extension": ".py",
   "mimetype": "text/x-python",
   "name": "python",
   "nbconvert_exporter": "python",
   "pygments_lexer": "ipython3",
   "version": "3.8.8"
  }
 },
 "nbformat": 4,
 "nbformat_minor": 4
}
