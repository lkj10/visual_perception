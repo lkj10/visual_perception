{
 "cells": [
  {
   "cell_type": "code",
   "execution_count": null,
   "metadata": {},
   "outputs": [],
   "source": [
    "import cv2\n",
    "import numpy as np\n",
    "import matplotlib.pyplot as plt"
   ]
  },
  {
   "cell_type": "code",
   "execution_count": null,
   "metadata": {
    "scrolled": false
   },
   "outputs": [],
   "source": [
    "#1\n",
    "cap = cv2.VideoCapture('./data/vtest.avi')\n",
    "if (not cap.isOpened()): \n",
    "     print('Error opening video')\n",
    "\n",
    "height, width = (int(cap.get(cv2.CAP_PROP_FRAME_HEIGHT)),\n",
    "              int(cap.get(cv2.CAP_PROP_FRAME_WIDTH)))\n",
    "\n",
    "acc_gray= np.zeros(shape=(height, width), dtype=np.float32)\n",
    "acc_bgr = np.zeros(shape=(height, width, 3), dtype=np.float32)"
   ]
  },
  {
   "cell_type": "code",
   "execution_count": null,
   "metadata": {
    "scrolled": false
   },
   "outputs": [],
   "source": [
    "#2\n",
    "t = 0\n",
    "while True:\n",
    "    ret, frame = cap.read()\n",
    "    if not ret:\n",
    "        break\n",
    "    t += 1\n",
    "    print('t =', t)   \n",
    "    gray = cv2.cvtColor(frame, cv2.COLOR_BGR2GRAY)\n",
    "\n",
    "    cv2.accumulate(gray, acc_gray)\n",
    "    avg_gray = acc_gray/t       \n",
    "    dst_gray = cv2.convertScaleAbs(avg_gray)\n",
    "\n",
    "    cv2.accumulate(frame, acc_bgr)\n",
    "    avg_bgr = acc_bgr/t       \n",
    "    dst_bgr= cv2.convertScaleAbs(avg_bgr)\n",
    "    \n",
    "    cv2.imshow('frame',frame)\n",
    "    cv2.imshow('dst_gray',dst_gray)\n",
    "    cv2.imshow('dst_bgr',dst_bgr)    \n",
    "    key = cv2.waitKey(20)\n",
    "    if key == 27:\n",
    "        break\n",
    "#3\n",
    "if cap.isOpened(): cap.release();\n",
    "    \n",
    "cv2.imwrite('./data/avg_gray.png', dst_gray)\n",
    "cv2.imwrite('./data/avg_bgr.png', dst_bgr)\n",
    "cv2.destroyAllWindows()"
   ]
  },
  {
   "cell_type": "code",
   "execution_count": null,
   "metadata": {},
   "outputs": [],
   "source": [
    "avg1 = cv2.imread('./data/avg_gray.png', cv2.IMREAD_GRAYSCALE)\n",
    "avg2 = cv2.imread('./data/avg_bgr.png')\n",
    "avg2rgb = cv2.cvtColor(avg2, cv2.COLOR_BGR2RGB)\n",
    "\n",
    "plt.figure(figsize=(10, 10))\n",
    "plt.subplot(1, 2, 1)\n",
    "plt.imshow(avg1, cmap='gray')\n",
    "plt.subplot(1, 2, 2)\n",
    "plt.imshow(avg2rgb)"
   ]
  },
  {
   "cell_type": "code",
   "execution_count": null,
   "metadata": {},
   "outputs": [],
   "source": []
  }
 ],
 "metadata": {
  "kernelspec": {
   "display_name": "Python 3",
   "language": "python",
   "name": "python3"
  },
  "language_info": {
   "codemirror_mode": {
    "name": "ipython",
    "version": 3
   },
   "file_extension": ".py",
   "mimetype": "text/x-python",
   "name": "python",
   "nbconvert_exporter": "python",
   "pygments_lexer": "ipython3",
   "version": "3.8.8"
  }
 },
 "nbformat": 4,
 "nbformat_minor": 4
}
