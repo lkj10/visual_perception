{
 "cells": [
  {
   "cell_type": "code",
   "execution_count": null,
   "metadata": {},
   "outputs": [],
   "source": [
    "import cv2\n",
    "from matplotlib import pyplot as plt"
   ]
  },
  {
   "cell_type": "code",
   "execution_count": null,
   "metadata": {},
   "outputs": [],
   "source": [
    "#1\n",
    "src = cv2.imread('./data/people_test.png')\n",
    "hog = \n",
    "hog."
   ]
  },
  {
   "cell_type": "code",
   "execution_count": null,
   "metadata": {},
   "outputs": [],
   "source": [
    "#2\n",
    "loc1, weights1 = hog.detect(src)\n",
    "print('len(loc1)=',len(loc1))\n",
    "dst1 = src.copy()\n",
    "w, h = hog.winSize\n",
    "for pt in loc1:\n",
    "    x, y = pt\n",
    "    cv2.rectangle(dst1, (x, y), (x+w, y+h), (255,0,0),2)\n",
    "    \n",
    "dst1_rgb = cv2.cvtColor(dst1, cv2.COLOR_BGR2RGB)\n",
    "plt.figure(figsize=(15,30))\n",
    "plt.imshow(dst1_rgb)\n",
    "plt.show()"
   ]
  },
  {
   "cell_type": "code",
   "execution_count": null,
   "metadata": {},
   "outputs": [],
   "source": [
    "#3\n",
    "dst2 = src.copy()\n",
    "loc2, weights2 = \n",
    "print('len(loc2)=',len(loc2))\n",
    "for rect in loc2:\n",
    "    x, y, w, h = rect\n",
    "    cv2.rectangle(dst2, (x, y), (x+w, y+h), (0,255,0),2)\n",
    "\n",
    "dst2_rgb = cv2.cvtColor(dst2, cv2.COLOR_BGR2RGB)\n",
    "plt.figure(figsize=(15,30))\n",
    "plt.imshow(dst2_rgb)\n",
    "plt.show()"
   ]
  },
  {
   "cell_type": "code",
   "execution_count": null,
   "metadata": {},
   "outputs": [],
   "source": [
    "#4\n",
    "dst3 = src.copy()\n",
    "loc3, weights3 = \n",
    "print('len(loc3)=',len(loc3))\n",
    "print('weights3=', weights3)\n",
    "for i, rect in enumerate(loc3):\n",
    "    x, y, w, h = rect\n",
    "    if weights3[i]>0.5:\n",
    "        cv2.rectangle(dst3, (x, y), (x+w, y+h), (0,0,255),2)\n",
    "    else:\n",
    "        cv2.rectangle(dst3, (x, y), (x+w, y+h), (255,0,0),2)\n",
    "    \n",
    "dst3_rgb = cv2.cvtColor(dst3, cv2.COLOR_BGR2RGB)\n",
    "plt.figure(figsize=(15,30))\n",
    "plt.imshow(dst3_rgb)\n",
    "plt.show()"
   ]
  },
  {
   "cell_type": "code",
   "execution_count": null,
   "metadata": {},
   "outputs": [],
   "source": []
  }
 ],
 "metadata": {
  "kernelspec": {
   "display_name": "Python 3",
   "language": "python",
   "name": "python3"
  },
  "language_info": {
   "codemirror_mode": {
    "name": "ipython",
    "version": 3
   },
   "file_extension": ".py",
   "mimetype": "text/x-python",
   "name": "python",
   "nbconvert_exporter": "python",
   "pygments_lexer": "ipython3",
   "version": "3.8.8"
  }
 },
 "nbformat": 4,
 "nbformat_minor": 4
}
