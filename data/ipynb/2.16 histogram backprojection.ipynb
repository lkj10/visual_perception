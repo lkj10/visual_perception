{
 "cells": [
  {
   "cell_type": "code",
   "execution_count": null,
   "metadata": {},
   "outputs": [],
   "source": [
    "import cv2\n",
    "import numpy as np"
   ]
  },
  {
   "cell_type": "code",
   "execution_count": null,
   "metadata": {},
   "outputs": [],
   "source": [
    "src = np.array([[0, 0, 0, 0],\n",
    "              [1, 1, 3, 5],\n",
    "              [6, 1, 1, 3],\n",
    "              [4, 3, 1, 7]\n",
    "              ], dtype=np.uint8)\n",
    "\n",
    "hist = cv2.calcHist(images=[src], channels=[0], mask=None,\n",
    "                    histSize=[4], ranges=[0, 8])\n",
    "print(hist.shape)\n",
    "print('hist = ', hist)\n",
    "\n",
    "backP = cv2.calcBackProject([src], [0], hist, [0, 8], scale=1)\n",
    "print('backP = ', backP)"
   ]
  },
  {
   "cell_type": "code",
   "execution_count": null,
   "metadata": {},
   "outputs": [],
   "source": [
    "#1\n",
    "src = cv2.imread('./data/fruits.jpg')\n",
    "hsv = cv2.cvtColor(src, cv2.COLOR_BGR2HSV)\n",
    "h, s, v = cv2.split(hsv)\n",
    "\n",
    "#2\n",
    "roi = cv2.selectROI(src)\n",
    "print('roi =', roi)\n",
    "roi_h = h[roi[1]:roi[1]+roi[3], roi[0]:roi[0]+roi[2]]\n",
    "hist = cv2.calcHist([roi_h], [0], None,[64], [0, 256])\n",
    "backP= cv2.calcBackProject([h.astype(np.float32)], [0], hist,[0, 256],scale=1.0)\n",
    "##minVal, maxVal, minLoc, maxLoc = cv2.minMaxLoc(backP)\n",
    "##T = maxVal -1 # threshold\n",
    "\n",
    "#3\n",
    "print(hist.shape)\n",
    "hist = cv2.sort(hist, cv2.SORT_EVERY_COLUMN+cv2.SORT_DESCENDING)\n",
    "k = 2\n",
    "T = hist[k][0] -1 # threshold\n",
    "print('T =', T)\n",
    "ret, dst = cv2.threshold(backP, T, 255, cv2.THRESH_BINARY)\n",
    "\n",
    "cv2.imshow('dst',  dst)\n",
    "cv2.waitKey()    \n",
    "cv2.destroyAllWindows()"
   ]
  },
  {
   "cell_type": "code",
   "execution_count": null,
   "metadata": {},
   "outputs": [],
   "source": []
  }
 ],
 "metadata": {
  "kernelspec": {
   "display_name": "Python 3",
   "language": "python",
   "name": "python3"
  },
  "language_info": {
   "codemirror_mode": {
    "name": "ipython",
    "version": 3
   },
   "file_extension": ".py",
   "mimetype": "text/x-python",
   "name": "python",
   "nbconvert_exporter": "python",
   "pygments_lexer": "ipython3",
   "version": "3.8.3"
  }
 },
 "nbformat": 4,
 "nbformat_minor": 4
}
