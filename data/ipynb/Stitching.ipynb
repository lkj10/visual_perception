{
 "cells": [
  {
   "cell_type": "markdown",
   "metadata": {},
   "source": [
    "### Image Stitching"
   ]
  },
  {
   "cell_type": "code",
   "execution_count": null,
   "metadata": {},
   "outputs": [],
   "source": [
    "import cv2\n",
    "\n",
    "#1\n",
    "src1 = cv2.imread('./data/stitch/stitch_image1.jpg')\n",
    "src2 = cv2.imread('./data/stitch/stitch_image2.jpg')\n",
    "src3 = cv2.imread('./data/stitch/stitch_image3.jpg')\n",
    "src4 = cv2.imread('./data/stitch/stitch_image4.jpg')\n",
    "stitcher = \n",
    "\n",
    "status, dst2 = \n",
    "status, dst3 = \n",
    "status, dst4 = \n",
    "\n",
    "cv2.imshow('src1',  src1)\n",
    "cv2.imshow('dst2',  dst2)\n",
    "cv2.imshow('dst3',  dst3)\n",
    "cv2.imshow('dst4',  dst4)\n",
    "cv2.waitKey()\n",
    "cv2.destroyAllWindows()"
   ]
  },
  {
   "cell_type": "markdown",
   "metadata": {},
   "source": [
    "### Video Stitching"
   ]
  },
  {
   "cell_type": "code",
   "execution_count": null,
   "metadata": {},
   "outputs": [],
   "source": [
    "import cv2\n",
    " \n",
    "#1\n",
    "cap = cv2.VideoCapture('./data/stitch/stitch_videoInput.mp4')\n",
    "t = 0 \n",
    "images = []\n",
    "STEP = 20\n",
    "\n",
    "while True:\n",
    "    t += 1\n",
    "    retval, frame = \n",
    "    if not retval:\n",
    "        break\n",
    "    img = cv2.resize(frame, dsize=(640, 480))\n",
    "    img = cv2.rotate(img, cv2.ROTATE_90_CLOCKWISE)\n",
    "    if t%STEP == 0:\n",
    "        images.append(img)\n",
    "        \n",
    "    cv2.imshow('img',img)\n",
    "    key = cv2.waitKey(25)\n",
    "    if key == 27: # Esc\n",
    "        break\n",
    "\n",
    "#2\n",
    "print('len(images)=', len(images))\n",
    "stitcher = \n",
    "status, dst =\n",
    "if status == \n",
    "    cv2.imshow('dst',dst)\n",
    "    cv2.waitKey()\n",
    "\n",
    "if cap.isOpened():\n",
    "    cap.release()\n",
    "cv2.destroyAllWindows()"
   ]
  },
  {
   "cell_type": "code",
   "execution_count": null,
   "metadata": {},
   "outputs": [],
   "source": []
  }
 ],
 "metadata": {
  "kernelspec": {
   "display_name": "Python 3",
   "language": "python",
   "name": "python3"
  },
  "language_info": {
   "codemirror_mode": {
    "name": "ipython",
    "version": 3
   },
   "file_extension": ".py",
   "mimetype": "text/x-python",
   "name": "python",
   "nbconvert_exporter": "python",
   "pygments_lexer": "ipython3",
   "version": "3.8.3"
  }
 },
 "nbformat": 4,
 "nbformat_minor": 4
}
