{
 "cells": [
  {
   "cell_type": "code",
   "execution_count": null,
   "metadata": {},
   "outputs": [],
   "source": [
    "import cv2\n",
    "import numpy as np\n",
    "from   matplotlib import pyplot as plt"
   ]
  },
  {
   "cell_type": "code",
   "execution_count": null,
   "metadata": {},
   "outputs": [],
   "source": [
    "src = np.array([[0, 0, 0, 0],\n",
    "                [1, 1, 3, 5],\n",
    "                [6, 1, 1, 3],\n",
    "                [4, 3, 1, 7]\n",
    "              ], dtype=np.uint8)\n",
    "\n",
    "dst = cv2.equalizeHist(src)\n",
    "print('dst =', dst)"
   ]
  },
  {
   "cell_type": "code",
   "execution_count": null,
   "metadata": {},
   "outputs": [],
   "source": [
    "src = cv2.imread('./data/lena.jpg', cv2.IMREAD_GRAYSCALE)\n",
    "dst = cv2.equalizeHist(src)\n",
    "cv2.imshow('src',  src)\n",
    "cv2.imshow('dst',  dst)\n",
    "cv2.waitKey()    \n",
    "cv2.destroyAllWindows()"
   ]
  },
  {
   "cell_type": "code",
   "execution_count": null,
   "metadata": {},
   "outputs": [],
   "source": [
    "plt.title('Grayscale histogram of lena.jpg')\n",
    "\n",
    "hist1 = cv2.calcHist(images=[src], channels=[0], mask=None,\n",
    "                    histSize=[256], ranges=[0, 256])\n",
    "plt.plot(hist1, color='b', label='hist1 in src')\n",
    "\n",
    "hist2 = cv2.calcHist(images=[dst], channels=[0], mask=None,\n",
    "                    histSize=[256], ranges=[0, 256])\n",
    "plt.plot(hist2, color='r', alpha=0.7, label='hist2 in dst')\n",
    "plt.legend(loc='best')\n",
    "plt.show()"
   ]
  },
  {
   "cell_type": "code",
   "execution_count": null,
   "metadata": {},
   "outputs": [],
   "source": [
    "src = cv2.imread('./data/lena.jpg')\n",
    "\n",
    "#1\n",
    "hsv = cv2.cvtColor(src, cv2.COLOR_BGR2HSV)\n",
    "h, s, v = cv2.split(hsv)\n",
    "v2 = cv2.equalizeHist(v)\n",
    "hsv2 = cv2.merge([h, s, v2])\n",
    "dst  = cv2.cvtColor(hsv2, cv2.COLOR_HSV2BGR)\n",
    "\n",
    "#2\n",
    "yCrCv = cv2.cvtColor(src, cv2.COLOR_BGR2YCrCb)\n",
    "y, Cr, Cv = cv2.split(yCrCv)\n",
    "y2 = cv2.equalizeHist(y)\n",
    "yCrCv2 = cv2.merge([y2, Cr, Cv])\n",
    "dst2    = cv2.cvtColor(yCrCv2, cv2.COLOR_YCrCb2BGR)\n",
    "\n",
    "cv2.imshow('src',  src)\n",
    "cv2.imshow('dst',  dst)\n",
    "cv2.imshow('dst2',  dst2)\n",
    "cv2.waitKey()    \n",
    "cv2.destroyAllWindows()"
   ]
  },
  {
   "cell_type": "code",
   "execution_count": null,
   "metadata": {},
   "outputs": [],
   "source": []
  }
 ],
 "metadata": {
  "kernelspec": {
   "display_name": "Python 3",
   "language": "python",
   "name": "python3"
  },
  "language_info": {
   "codemirror_mode": {
    "name": "ipython",
    "version": 3
   },
   "file_extension": ".py",
   "mimetype": "text/x-python",
   "name": "python",
   "nbconvert_exporter": "python",
   "pygments_lexer": "ipython3",
   "version": "3.8.3"
  }
 },
 "nbformat": 4,
 "nbformat_minor": 4
}
