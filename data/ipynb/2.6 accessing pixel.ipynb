{
 "cells": [
  {
   "cell_type": "code",
   "execution_count": null,
   "metadata": {},
   "outputs": [],
   "source": [
    "import cv2\n",
    "import numpy as np"
   ]
  },
  {
   "cell_type": "code",
   "execution_count": null,
   "metadata": {},
   "outputs": [],
   "source": [
    "img = cv2.imread('./data/lena.jpg') # cv2.IMREAD_COLOR\n",
    "\n",
    "print('img.ndim=', img.ndim)\n",
    "print('img.shape=', img.shape)\n",
    "print('img.dtype=', img.dtype)\n",
    "\n",
    "## np.bool, np.uint16, np.uint32, np.float32, np.float64, np.complex64\n",
    "img=img.astype(np.int32)\n",
    "print('img.dtype=',img.dtype)\n",
    "\n",
    "img=np.uint8(img)\n",
    "print('img.dtype=',img.dtype)"
   ]
  },
  {
   "cell_type": "code",
   "execution_count": null,
   "metadata": {},
   "outputs": [],
   "source": [
    "img = cv2.imread('./data/lena.jpg', cv2.IMREAD_GRAYSCALE)\n",
    "print('img.shape=', img.shape)\n",
    "\n",
    "img = img.flatten()\n",
    "##img = img.reshape(img.shape[0]*img.shape[1])\n",
    "print('img.shape=', img.shape)\n",
    "\n",
    "img = img.reshape(512, 512)\n",
    "print('img.shape=', img.shape)\n",
    "\n",
    "cv2.imshow('img', img)\n",
    "cv2.waitKey()\n",
    "cv2.destroyAllWindows()"
   ]
  },
  {
   "cell_type": "code",
   "execution_count": null,
   "metadata": {},
   "outputs": [],
   "source": [
    "img = cv2.imread('./data/lena.jpg', cv2.IMREAD_GRAYSCALE)\n",
    "#(200, 100)에 밝기값을 50으로 설정\n",
    "img[100, 200] = 50  # 화소값(밝기,그레이스케일) 변경 \n",
    "print(img[100:110, 200:210]) # ROI 접근"
   ]
  },
  {
   "cell_type": "code",
   "execution_count": null,
   "metadata": {},
   "outputs": [],
   "source": [
    "## c/c++ style\n",
    "#for y in range(100, 400):\n",
    "#    for x in range(200, 300):\n",
    "#        img[y, x] = 0\n",
    "\n",
    "## python style\n",
    "img[100:400, 200:300] = 0    # ROI 접근\n",
    "\n",
    "cv2.imshow('img', img)\n",
    "cv2.waitKey()\n",
    "cv2.destroyAllWindows()"
   ]
  },
  {
   "cell_type": "code",
   "execution_count": null,
   "metadata": {},
   "outputs": [],
   "source": [
    "img = cv2.imread('./data/lena.jpg') # cv2.IMREAD_COLOR\n",
    "img[100, 200] = [255, 0, 0]  # 컬러(BGR) 변경\n",
    "print(img[100, 200:210]) # ROI 접근"
   ]
  },
  {
   "cell_type": "code",
   "execution_count": null,
   "metadata": {},
   "outputs": [],
   "source": [
    "##for y in range(100, 400):\n",
    "##    for x in range(200, 300):\n",
    "##        img[y, x] = [255, 0, 0]    # 파랑색(blue)으로 변경\n",
    "\n",
    "img[100:400, 200:300] = [255, 0, 0]  # ROI 접근\n",
    "    \n",
    "cv2.imshow('img', img)\n",
    "cv2.waitKey()\n",
    "cv2.destroyAllWindows()"
   ]
  },
  {
   "cell_type": "code",
   "execution_count": null,
   "metadata": {},
   "outputs": [],
   "source": [
    "img = cv2.imread('./data/lena.jpg') # cv2.IMREAD_COLOR\n",
    "\n",
    "##for y in range(100, 400):\n",
    "##    for x in range(200, 300):\n",
    "##        img[y, x, 0] = 255      # B-채널을 255로 변경\n",
    "        \n",
    "img[100:400, 200:300, 0] = 255  # B-채널을 255로 변경\n",
    "img[100:400, 300:400, 1] = 255  # G-채널을 255로 변경\n",
    "img[100:400, 400:500, 2] = 255  # R-채널을 255로 변경\n",
    "\n",
    "cv2.imshow('img', img)\n",
    "cv2.waitKey()\n",
    "cv2.destroyAllWindows()\n"
   ]
  },
  {
   "cell_type": "code",
   "execution_count": null,
   "metadata": {},
   "outputs": [],
   "source": []
  }
 ],
 "metadata": {
  "kernelspec": {
   "display_name": "Python 3",
   "language": "python",
   "name": "python3"
  },
  "language_info": {
   "codemirror_mode": {
    "name": "ipython",
    "version": 3
   },
   "file_extension": ".py",
   "mimetype": "text/x-python",
   "name": "python",
   "nbconvert_exporter": "python",
   "pygments_lexer": "ipython3",
   "version": "3.8.3"
  }
 },
 "nbformat": 4,
 "nbformat_minor": 4
}
