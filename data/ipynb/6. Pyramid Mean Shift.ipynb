{
 "cells": [
  {
   "cell_type": "code",
   "execution_count": null,
   "metadata": {},
   "outputs": [],
   "source": [
    "import cv2\n",
    "import numpy as np\n",
    "import matplotlib.pyplot as plt"
   ]
  },
  {
   "cell_type": "code",
   "execution_count": null,
   "metadata": {},
   "outputs": [],
   "source": [
    "#1\n",
    "def floodFillPostProcess(src, diff=(2,2,2)):\n",
    "    img = src.copy()\n",
    "    rows, cols = img.shape[:2]\n",
    "    mask = np.zeros(shape=(rows+2, cols+2), dtype=np.uint8)\n",
    "    for y in range(rows):\n",
    "        for x in range(cols):\n",
    "            if mask[y+1, x+1] == 0:\n",
    "                r = np.random.randint(256)\n",
    "                g = np.random.randint(256)\n",
    "                b = np.random.randint(256)\n",
    "                cv2.floodFill(img,mask,(x,y),(b,g,r),diff,diff)\n",
    "    return img"
   ]
  },
  {
   "cell_type": "code",
   "execution_count": null,
   "metadata": {},
   "outputs": [],
   "source": [
    "#2\n",
    "src = cv2.imread('./data/flower.jpg')\n",
    "srcrgb = cv2.cvtColor(src,cv2.COLOR_BGR2RGB)\n",
    "hsv = cv2.cvtColor(src, cv2.COLOR_BGR2HSV)\n",
    "dst  = floodFillPostProcess(src, diff=(5,5,5))\n",
    "dst2 = floodFillPostProcess(hsv, diff=(5,5,5))\n",
    "\n",
    "plt.figure(figsize=(20, 10))\n",
    "plt.subplot(1,4,1)\n",
    "plt.axis('off')\n",
    "plt.imshow(srcrgb)\n",
    "\n",
    "plt.subplot(1,4,2)\n",
    "plt.axis('off')\n",
    "plt.imshow(hsv)\n",
    "\n",
    "plt.subplot(1,4,3)\n",
    "plt.axis('off')\n",
    "plt.imshow(dst)\n",
    "\n",
    "plt.subplot(1,4,4)\n",
    "plt.axis('off')\n",
    "plt.imshow(dst2)"
   ]
  },
  {
   "cell_type": "code",
   "execution_count": null,
   "metadata": {},
   "outputs": [],
   "source": [
    "#3\n",
    "res = cv2.pyrMeanShiftFiltering(src, sp=5, sr=20, maxLevel=4)\n",
    "resrgb = cv2.cvtColor(res, cv2.COLOR_BGR2RGB)\n",
    "dst3 = floodFillPostProcess(res)\n",
    "\n",
    "#4\n",
    "term_crit=(cv2.TERM_CRITERIA_EPS+cv2.TERM_CRITERIA_MAX_ITER, 10, 2)\n",
    "res2 = cv2.pyrMeanShiftFiltering(hsv,sp=5,sr=20,maxLevel=4, termcrit=term_crit)\n",
    "res2rgb = cv2.cvtColor(res2,cv2.COLOR_BGR2RGB)\n",
    "dst4 = floodFillPostProcess(res2)\n",
    "\n",
    "\n",
    "plt.figure(figsize=(20, 10))\n",
    "plt.subplot(1,4,1)\n",
    "plt.axis('off')\n",
    "plt.imshow(resrgb)\n",
    "\n",
    "plt.subplot(1,4,2)\n",
    "plt.axis('off')\n",
    "plt.imshow(res2rgb)\n",
    "\n",
    "plt.subplot(1,4,3)\n",
    "plt.axis('off')\n",
    "plt.imshow(dst3)\n",
    "\n",
    "plt.subplot(1,4,4)\n",
    "plt.axis('off')\n",
    "plt.imshow(dst4)"
   ]
  },
  {
   "cell_type": "code",
   "execution_count": null,
   "metadata": {},
   "outputs": [],
   "source": []
  }
 ],
 "metadata": {
  "kernelspec": {
   "display_name": "Python 3",
   "language": "python",
   "name": "python3"
  },
  "language_info": {
   "codemirror_mode": {
    "name": "ipython",
    "version": 3
   },
   "file_extension": ".py",
   "mimetype": "text/x-python",
   "name": "python",
   "nbconvert_exporter": "python",
   "pygments_lexer": "ipython3",
   "version": "3.8.5"
  }
 },
 "nbformat": 4,
 "nbformat_minor": 4
}
