{
 "cells": [
  {
   "cell_type": "code",
   "execution_count": 2,
   "metadata": {},
   "outputs": [],
   "source": [
    "import cv2\n",
    "import numpy as np"
   ]
  },
  {
   "cell_type": "code",
   "execution_count": 36,
   "metadata": {},
   "outputs": [
    {
     "name": "stdout",
     "output_type": "stream",
     "text": [
      "circles1.shape= (1, 14, 3)\n",
      "2370\n"
     ]
    }
   ],
   "source": [
    "img = cv2.imread('./data/coin_demo2.jpg')\n",
    "gray = cv2.cvtColor(img, cv2.COLOR_BGR2GRAY)\n",
    "blur = cv2.GaussianBlur(gray, (3, 3), 0)\n",
    "circles1 = cv2.HoughCircles(blur, method=cv2.HOUGH_GRADIENT, dp=1.5, minDist=30, param1=200, maxRadius=200)\n",
    "#acumulation buffer를 1.5배 줄여서 적용(dp)\n",
    "#=>사이즈를 줄이니까 잡음을 제거할 수 있음\n",
    "\n",
    "circles1 = np.uint16(np.around(circles1))\n",
    "print('circles1.shape=', circles1.shape)\n",
    "SUM = 0\n",
    "        \n",
    "for circle in circles1[0,:]:    \n",
    "    cx, cy, r  = circle\n",
    "    if r > 50:\n",
    "        cv2.circle(img, (cx, cy), r, (0,0,255), 2)\n",
    "        SUM += 500\n",
    "    elif 50 >= r >= 40:\n",
    "        cv2.circle(img, (cx, cy), r, (255,0,0), 2)\n",
    "        SUM += 100\n",
    "    elif 40 > r:\n",
    "        cv2.circle(img, (cx, cy), r, (0,255,0), 2)\n",
    "        SUM += 10\n",
    "\n",
    "print(SUM)\n",
    "cv2.imshow('hough circle', img)\n",
    "cv2.waitKey(0)\n",
    "cv2.destroyAllWindows()"
   ]
  },
  {
   "cell_type": "code",
   "execution_count": null,
   "metadata": {},
   "outputs": [],
   "source": []
  }
 ],
 "metadata": {
  "kernelspec": {
   "display_name": "Python 3",
   "language": "python",
   "name": "python3"
  },
  "language_info": {
   "codemirror_mode": {
    "name": "ipython",
    "version": 3
   },
   "file_extension": ".py",
   "mimetype": "text/x-python",
   "name": "python",
   "nbconvert_exporter": "python",
   "pygments_lexer": "ipython3",
   "version": "3.8.8"
  }
 },
 "nbformat": 4,
 "nbformat_minor": 4
}
